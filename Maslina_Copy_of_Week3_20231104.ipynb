{
  "nbformat": 4,
  "nbformat_minor": 0,
  "metadata": {
    "colab": {
      "provenance": [],
      "include_colab_link": true
    },
    "kernelspec": {
      "name": "python3",
      "display_name": "Python 3"
    },
    "language_info": {
      "name": "python"
    }
  },
  "cells": [
    {
      "cell_type": "markdown",
      "metadata": {
        "id": "view-in-github",
        "colab_type": "text"
      },
      "source": [
        "<a href=\"https://colab.research.google.com/github/abubakarmaslina/STQD36014-Data-Science/blob/main/Maslina_Copy_of_Week3_20231104.ipynb\" target=\"_parent\"><img src=\"https://colab.research.google.com/assets/colab-badge.svg\" alt=\"Open In Colab\"/></a>"
      ]
    },
    {
      "cell_type": "markdown",
      "source": [
        "# **Week 03: If Statement**"
      ],
      "metadata": {
        "id": "wAJzPiuPfytH"
      }
    },
    {
      "cell_type": "code",
      "execution_count": 4,
      "metadata": {
        "id": "K3kRlxvX6A7L",
        "colab": {
          "base_uri": "https://localhost:8080/"
        },
        "outputId": "b70e6387-1311-4bfa-edde-215573610e95"
      },
      "outputs": [
        {
          "output_type": "stream",
          "name": "stdout",
          "text": [
            "Audi\n",
            "BMW\n",
            "Subaru\n",
            "Toyota\n"
          ]
        }
      ],
      "source": [
        "# Exercise 1\n",
        "cars = ['audi', 'bmw', 'subaru', 'toyota']\n",
        "\n",
        "for car in cars:\n",
        "    if car =='bmw':\n",
        "        print(car.upper())\n",
        "    else:\n",
        "        print(car.title())\n",
        "\n"
      ]
    },
    {
      "cell_type": "code",
      "source": [
        "# Exercise 2\n",
        "requested_topping = 'anchovies'\n",
        "\n",
        "if requested_topping != 'anchovies':\n",
        "  print('Hold the anchovies')\n",
        "else:\n",
        "  print('Maslina, please serve the anchovies fast!!!')\n"
      ],
      "metadata": {
        "id": "fviS0BYz8fUO",
        "colab": {
          "base_uri": "https://localhost:8080/"
        },
        "outputId": "6b00087d-15c4-4d07-c3bd-53abe722800d"
      },
      "execution_count": 8,
      "outputs": [
        {
          "output_type": "stream",
          "name": "stdout",
          "text": [
            "Maslina, please serve the anchovies fast!!!\n"
          ]
        }
      ]
    },
    {
      "cell_type": "code",
      "source": [
        "requested_topping = 'cheese'\n",
        "\n",
        "if requested_topping != 'anchovies':\n",
        "  print('Hold the anchovies')\n",
        "else:\n",
        "  print('Maslina, please serve the anchovies fast!!!')"
      ],
      "metadata": {
        "colab": {
          "base_uri": "https://localhost:8080/"
        },
        "id": "SIT1Oe_JHTi5",
        "outputId": "46fe41f1-d54a-4c32-ccbc-e603c547d865"
      },
      "execution_count": 7,
      "outputs": [
        {
          "output_type": "stream",
          "name": "stdout",
          "text": [
            "Hold the anchovies\n"
          ]
        }
      ]
    },
    {
      "cell_type": "code",
      "source": [
        "# Exercise 3\n",
        "age_0 = 22\n",
        "age_1 = 18\n",
        "\n"
      ],
      "metadata": {
        "id": "hV59aeSw8uSF"
      },
      "execution_count": 12,
      "outputs": []
    },
    {
      "cell_type": "code",
      "source": [
        "# Checking using different condition\n",
        "# age_0 < 21 and age_1 < 21 - False\n",
        "# age_0 < 21 or age_1 < 21 - True\n",
        "# age_0 >= 21 and age_1 >= 21 - False\n",
        "# age_0 >= 21 or age_1 >= 21 - True\n",
        "# age_0 >= 21 and age_1 >= 21 - False\n"
      ],
      "metadata": {
        "id": "69W0k1_NgKOS"
      },
      "execution_count": 10,
      "outputs": []
    },
    {
      "cell_type": "code",
      "source": [
        "age_0 < 21 and age_1 < 21"
      ],
      "metadata": {
        "colab": {
          "base_uri": "https://localhost:8080/"
        },
        "id": "JVew21-kIb7J",
        "outputId": "c487445c-a810-4033-822a-1b74ddd8d457"
      },
      "execution_count": 17,
      "outputs": [
        {
          "output_type": "execute_result",
          "data": {
            "text/plain": [
              "False"
            ]
          },
          "metadata": {},
          "execution_count": 17
        }
      ]
    },
    {
      "cell_type": "code",
      "source": [
        "age_0 < 21 or age_1 < 21"
      ],
      "metadata": {
        "colab": {
          "base_uri": "https://localhost:8080/"
        },
        "id": "1vWOTgoyIgjJ",
        "outputId": "fef993c3-0171-49fc-8982-d020c62ea438"
      },
      "execution_count": 18,
      "outputs": [
        {
          "output_type": "execute_result",
          "data": {
            "text/plain": [
              "True"
            ]
          },
          "metadata": {},
          "execution_count": 18
        }
      ]
    },
    {
      "cell_type": "code",
      "source": [
        "age_0 >= 21 and age_1 >=21"
      ],
      "metadata": {
        "colab": {
          "base_uri": "https://localhost:8080/"
        },
        "id": "RFaJoTF1IiDw",
        "outputId": "eca1322f-c4e6-48ac-fcd8-c6dd3886e4aa"
      },
      "execution_count": 21,
      "outputs": [
        {
          "output_type": "execute_result",
          "data": {
            "text/plain": [
              "False"
            ]
          },
          "metadata": {},
          "execution_count": 21
        }
      ]
    },
    {
      "cell_type": "code",
      "source": [
        "age_0 >= 21 or age_1 >= 21"
      ],
      "metadata": {
        "colab": {
          "base_uri": "https://localhost:8080/"
        },
        "id": "Dio89baNIlwW",
        "outputId": "dbccd191-ae38-4c3d-c958-86287ddcbf1e"
      },
      "execution_count": 20,
      "outputs": [
        {
          "output_type": "execute_result",
          "data": {
            "text/plain": [
              "True"
            ]
          },
          "metadata": {},
          "execution_count": 20
        }
      ]
    },
    {
      "cell_type": "code",
      "source": [
        "age_0 >= 21 and age_1 >= 21\n"
      ],
      "metadata": {
        "colab": {
          "base_uri": "https://localhost:8080/"
        },
        "id": "zRogMLVDILp-",
        "outputId": "43d269f2-7e64-4182-bce9-4b17c0b11ca1"
      },
      "execution_count": 16,
      "outputs": [
        {
          "output_type": "execute_result",
          "data": {
            "text/plain": [
              "False"
            ]
          },
          "metadata": {},
          "execution_count": 16
        }
      ]
    },
    {
      "cell_type": "markdown",
      "source": [
        "# **A point of ponder :)**"
      ],
      "metadata": {
        "id": "Wk6VCX9djopY"
      }
    },
    {
      "cell_type": "code",
      "source": [
        "# What would the following code evaluate to? True or False?\n",
        "# and why?\n",
        "age_0 and age_1 < 21\n",
        "\n",
        "## age_0 = 22, age_1 < 21 = TRUE, both are non numeric, Hence the results TRUE"
      ],
      "metadata": {
        "id": "9xZGmLTVkHlh"
      },
      "execution_count": null,
      "outputs": []
    },
    {
      "cell_type": "code",
      "source": [
        "age_0 and age_1 > 21"
      ],
      "metadata": {
        "colab": {
          "base_uri": "https://localhost:8080/"
        },
        "id": "JZGWb5jCIwtM",
        "outputId": "bafcf592-fab1-4445-ca57-1c77104c9aa7"
      },
      "execution_count": 23,
      "outputs": [
        {
          "output_type": "execute_result",
          "data": {
            "text/plain": [
              "False"
            ]
          },
          "metadata": {},
          "execution_count": 23
        }
      ]
    },
    {
      "cell_type": "code",
      "source": [
        "age_0 and age_1 < 21"
      ],
      "metadata": {
        "colab": {
          "base_uri": "https://localhost:8080/"
        },
        "id": "1JL5X3ECKTQ-",
        "outputId": "116606f4-7dba-48d6-cc39-5d5707d15698"
      },
      "execution_count": 24,
      "outputs": [
        {
          "output_type": "execute_result",
          "data": {
            "text/plain": [
              "True"
            ]
          },
          "metadata": {},
          "execution_count": 24
        }
      ]
    },
    {
      "cell_type": "code",
      "source": [
        "# Exercise 4 (using the keyword in)\n",
        "requested_topping = ['mushrooms', 'onions', 'pineapple']\n",
        "\n",
        "# Check whether mushrooms is in the topping list\n",
        "# case sensitive\n",
        "'mushrooms' in requested_topping\n",
        "\n",
        "# Check whether pepperoni is in the topping list\n",
        "'pepperoni' in requested_topping"
      ],
      "metadata": {
        "id": "z5wPseRl-VyI",
        "colab": {
          "base_uri": "https://localhost:8080/"
        },
        "outputId": "aaf4ace0-b1f9-43c8-ec08-f5fd41f35f9e"
      },
      "execution_count": 25,
      "outputs": [
        {
          "output_type": "execute_result",
          "data": {
            "text/plain": [
              "False"
            ]
          },
          "metadata": {},
          "execution_count": 25
        }
      ]
    },
    {
      "cell_type": "code",
      "source": [
        "# Exercise 5\n",
        "banned_users = ['andrew', 'carolina', 'david']\n",
        "\n",
        "# Check whether marie, 007 and andrew is in the banned user list\n",
        "#user = 'marie'\n",
        "#user = '007'\n",
        "#user = 'andrew'\n"
      ],
      "metadata": {
        "id": "RWb1iy4I-eFb"
      },
      "execution_count": null,
      "outputs": []
    },
    {
      "cell_type": "code",
      "source": [
        "# Try it yourself\n",
        "# Try making sense of it\n",
        "car = 'subaru'\n",
        "#print(\"Is car == 'subaru'? I predict True.\")\n",
        "#print(car == \"subaru\")\n",
        "\n",
        "#print(\"\\nIs car == 'audi'? I predict False\")\n",
        "#print(car == 'audi')"
      ],
      "metadata": {
        "id": "Usq-CnrjCi71"
      },
      "execution_count": null,
      "outputs": []
    },
    {
      "cell_type": "code",
      "source": [
        "# If statement\n",
        "age = 18\n"
      ],
      "metadata": {
        "id": "BN5LXsVWDN_b"
      },
      "execution_count": null,
      "outputs": []
    },
    {
      "cell_type": "code",
      "source": [
        "# Given the if-elif-else statement\n",
        "age = 55\n",
        "if age < 4:\n",
        "  print(\"Your admission rate is RM0.\")\n",
        "elif age < 18:\n",
        "  print(\"Your admission rate is RM5.\")\n",
        "else:\n",
        "  print(\"Your admission rate is RM10.\")"
      ],
      "metadata": {
        "colab": {
          "base_uri": "https://localhost:8080/"
        },
        "id": "5lNf9lMgEO4H",
        "outputId": "96494f23-d90d-4b5d-a26e-19166321d9d5"
      },
      "execution_count": null,
      "outputs": [
        {
          "output_type": "stream",
          "name": "stdout",
          "text": [
            "Your admission rate is RM10.\n"
          ]
        }
      ]
    },
    {
      "cell_type": "code",
      "source": [
        "# Exercise 6 - Revising the previous code for a cleaner version\n",
        "age = 67\n"
      ],
      "metadata": {
        "id": "litAhuvSGR6l"
      },
      "execution_count": null,
      "outputs": []
    },
    {
      "cell_type": "code",
      "source": [
        "# Exercise 7 - end the code using elif for easier interpretation\n",
        "age = 67\n"
      ],
      "metadata": {
        "id": "T6AvirgKHEWz"
      },
      "execution_count": null,
      "outputs": []
    },
    {
      "cell_type": "code",
      "source": [
        "# Exercise 8 - multiple if\n",
        "requested_topping = ['mushrooms', 'extra cheese']"
      ],
      "metadata": {
        "id": "FUPOtDHjXZAr"
      },
      "execution_count": null,
      "outputs": []
    },
    {
      "cell_type": "code",
      "source": [
        "# Exercise 9 - To check for special conditions / items\n",
        "requested_toppings = ['mushrooms', 'extra cheese', 'green peppers']\n"
      ],
      "metadata": {
        "id": "sy9baNJxYusX"
      },
      "execution_count": null,
      "outputs": []
    },
    {
      "cell_type": "code",
      "source": [
        "# Exercise 10 - Checking for a list that is empty\n",
        "requested_toppings = []\n"
      ],
      "metadata": {
        "id": "s_0W3DsnUq02"
      },
      "execution_count": null,
      "outputs": []
    },
    {
      "cell_type": "code",
      "source": [
        "# Exercise 11 - Using multiple lists\n",
        "available_toppings = ['mushrooms', 'olives', 'green peppers', 'pepperoni',\n",
        "                      'pineapple', 'extra cheese']\n",
        "requested_toppings = ['mushrooms', 'french fries', 'extra cheese', 'crab meat']"
      ],
      "metadata": {
        "id": "j4EyZ_3KhSAR"
      },
      "execution_count": null,
      "outputs": []
    },
    {
      "cell_type": "code",
      "source": [
        "# Exercise 12 - Accessing the value using the key in dictionary\n",
        "alien_0 = {'color': 'green', 'points':5}\n",
        "\n",
        "# get the alien's color\n",
        "\n",
        "# get the alien's point\n"
      ],
      "metadata": {
        "id": "DmUQQo0li7bg"
      },
      "execution_count": null,
      "outputs": []
    },
    {
      "cell_type": "code",
      "source": [
        "# Start building the alien_0 dictionary from scratch\n"
      ],
      "metadata": {
        "id": "w1jfQOdDayLN"
      },
      "execution_count": null,
      "outputs": []
    },
    {
      "cell_type": "code",
      "source": [
        "alien_0"
      ],
      "metadata": {
        "colab": {
          "base_uri": "https://localhost:8080/"
        },
        "id": "emud4BEneaVW",
        "outputId": "8b5eefda-3e7c-4537-dba5-9a675c71288f"
      },
      "execution_count": null,
      "outputs": [
        {
          "output_type": "execute_result",
          "data": {
            "text/plain": [
              "{'color': 'green', 'points': 5}"
            ]
          },
          "metadata": {},
          "execution_count": 67
        }
      ]
    },
    {
      "cell_type": "code",
      "source": [
        "# Exercise 13 - extract the value from the dictionary\n",
        "# put in a variable called new_points\n",
        "# Print out the value\n",
        "alien_0 = {'color': 'green', 'points':5}\n",
        "\n"
      ],
      "metadata": {
        "id": "Dg5C29oafPu5"
      },
      "execution_count": null,
      "outputs": []
    },
    {
      "cell_type": "code",
      "source": [
        "# Exercise 14 - change the color value in the dictionary\n",
        "\n",
        "# Print out the new color\n"
      ],
      "metadata": {
        "id": "aqLdYAec4UJi"
      },
      "execution_count": null,
      "outputs": []
    },
    {
      "cell_type": "code",
      "source": [
        "# Exercise 15 - change the value in the dictionary; using if-elif-else statement\n",
        "alien_0 = {'x_position': 0, 'y_position': 25, 'speed': 'fast'}\n",
        "\n",
        "# Move the alien to the right.\n",
        "# Determine how far to move the alien based on its current speed.\n",
        "\n",
        "# The new position is the old position plus the increment.\n"
      ],
      "metadata": {
        "id": "vfDw_r_L5jPz"
      },
      "execution_count": null,
      "outputs": []
    },
    {
      "cell_type": "code",
      "source": [
        "# Exercise 16 - using del() function\n",
        "alien_0 = {'color': 'green', 'points': 5}\n",
        "print(alien_0)\n",
        "\n",
        "# Delete the points from the dictionary"
      ],
      "metadata": {
        "id": "efbBa0SB6hlj"
      },
      "execution_count": null,
      "outputs": []
    },
    {
      "cell_type": "code",
      "source": [
        "# Exercise 17 - break dictionary into several lines\n"
      ],
      "metadata": {
        "id": "KtsGcBJC8MBy"
      },
      "execution_count": null,
      "outputs": []
    },
    {
      "cell_type": "code",
      "source": [
        "# Exercise 18 - print out the key-value pairs using item() function\n",
        "# using the for function\n"
      ],
      "metadata": {
        "colab": {
          "base_uri": "https://localhost:8080/"
        },
        "id": "piktzd1c9b7c",
        "outputId": "affe74d3-cee9-424c-b1cd-f9a3e7771241"
      },
      "execution_count": null,
      "outputs": [
        {
          "output_type": "stream",
          "name": "stdout",
          "text": [
            "Jen's favorite language is Python.\n",
            "Sarah's favorite language is C.\n",
            "Edward's favorite language is Ruby.\n",
            "Phil's favorite language is Python.\n"
          ]
        }
      ]
    },
    {
      "cell_type": "code",
      "source": [
        "# Exercise 19 - print out the key-value pairs using key() function\n",
        "favorite_languages = {\n",
        "    'jen': 'python',\n",
        "    'sarah': 'c',\n",
        "    'edward': 'ruby',\n",
        "    'phil': 'python',\n",
        "    }"
      ],
      "metadata": {
        "id": "HDxDyGRj_LLh"
      },
      "execution_count": null,
      "outputs": []
    },
    {
      "cell_type": "code",
      "source": [
        "# Exercise 20 - print out the key-value pairs using not in function\n",
        "favorite_languages = {\n",
        "    'jen': 'python',\n",
        "    'sarah': 'c',\n",
        "    'edward': 'ruby',\n",
        "    'phil': 'python',\n",
        "    }\n"
      ],
      "metadata": {
        "id": "2SnKUKMEAA8t"
      },
      "execution_count": null,
      "outputs": []
    },
    {
      "cell_type": "code",
      "source": [
        "# Exercise 21 - Sort keys in order\n",
        "# Print out the message thanking them to take the poll\n",
        "favorite_languages = {\n",
        "    'jen': 'python',\n",
        "    'sarah': 'c',\n",
        "    'edward': 'ruby',\n",
        "    'phil': 'python',\n",
        "    }\n"
      ],
      "metadata": {
        "id": "6QBXlZM1Axk4"
      },
      "execution_count": null,
      "outputs": []
    },
    {
      "cell_type": "code",
      "source": [
        "# Exercise 22 - Sort values in order\n",
        "# remove redundant value using set() function\n",
        "favorite_languages = {\n",
        "    'jen': 'python',\n",
        "    'sarah': 'c',\n",
        "    'edward': 'ruby',\n",
        "    'phil': 'python',\n",
        "    }\n"
      ],
      "metadata": {
        "id": "CGqvlY1-BQ55"
      },
      "execution_count": null,
      "outputs": []
    },
    {
      "cell_type": "code",
      "source": [
        "range(30)\n"
      ],
      "metadata": {
        "colab": {
          "base_uri": "https://localhost:8080/"
        },
        "id": "w6F-kzmTwbbC",
        "outputId": "b28f9668-1991-4c7f-d8f3-c99ef10b577c"
      },
      "execution_count": null,
      "outputs": [
        {
          "output_type": "execute_result",
          "data": {
            "text/plain": [
              "range(0, 30)"
            ]
          },
          "metadata": {},
          "execution_count": 89
        }
      ]
    },
    {
      "cell_type": "code",
      "source": [
        "# Exercise 23 - append new data into dictionary using function\n",
        "# Make an empty list for storing aliens.\n",
        "aliens = []\n",
        "\n"
      ],
      "metadata": {
        "id": "CrP6r-jvBzht"
      },
      "execution_count": null,
      "outputs": []
    },
    {
      "cell_type": "code",
      "source": [
        "# Exercise 24 - A list in the dictionary\n",
        "# Store information about a pizza being ordered.\n",
        "pizza = {\n",
        "    'crust': 'thick',\n",
        "    'toppings': ['mushrooms', 'extra cheese'],\n",
        "    }\n",
        "\n",
        "# Summarize the order.\n"
      ],
      "metadata": {
        "id": "iA-z9NxRDixp"
      },
      "execution_count": null,
      "outputs": []
    },
    {
      "cell_type": "code",
      "source": [
        "# Exercise 25 - a list in the dictionary\n"
      ],
      "metadata": {
        "id": "q0MODSGDFsgU"
      },
      "execution_count": null,
      "outputs": []
    },
    {
      "cell_type": "code",
      "source": [
        "# Exercise 26 - A dictionary in a dictionary\n"
      ],
      "metadata": {
        "id": "wWibIDl0Gw2O"
      },
      "execution_count": null,
      "outputs": []
    },
    {
      "cell_type": "code",
      "source": [
        "# Exercise 27 - using input()\n"
      ],
      "metadata": {
        "id": "xY2CS0_CIEqr"
      },
      "execution_count": null,
      "outputs": []
    },
    {
      "cell_type": "code",
      "source": [
        "# Exercise 28 - using int() to accept numerical input: True of False\n"
      ],
      "metadata": {
        "id": "uWq2dvg3JR6c"
      },
      "execution_count": null,
      "outputs": []
    },
    {
      "cell_type": "code",
      "source": [
        "# Exercise 29 - using int()to accept numerical input and check for certain condition\n"
      ],
      "metadata": {
        "id": "XR0IMpnzK7Ne"
      },
      "execution_count": null,
      "outputs": []
    },
    {
      "cell_type": "code",
      "source": [
        "# Exercise 30 - The modulo operator to print message\n"
      ],
      "metadata": {
        "id": "x9OlZPDYL2ne"
      },
      "execution_count": null,
      "outputs": []
    }
  ]
}