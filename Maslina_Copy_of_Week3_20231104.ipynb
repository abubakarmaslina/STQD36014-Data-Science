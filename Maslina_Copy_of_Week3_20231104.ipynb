{
  "nbformat": 4,
  "nbformat_minor": 0,
  "metadata": {
    "colab": {
      "provenance": [],
      "include_colab_link": true
    },
    "kernelspec": {
      "name": "python3",
      "display_name": "Python 3"
    },
    "language_info": {
      "name": "python"
    }
  },
  "cells": [
    {
      "cell_type": "markdown",
      "metadata": {
        "id": "view-in-github",
        "colab_type": "text"
      },
      "source": [
        "<a href=\"https://colab.research.google.com/github/abubakarmaslina/STQD36014-Data-Science/blob/main/Maslina_Copy_of_Week3_20231104.ipynb\" target=\"_parent\"><img src=\"https://colab.research.google.com/assets/colab-badge.svg\" alt=\"Open In Colab\"/></a>"
      ]
    },
    {
      "cell_type": "markdown",
      "source": [
        "# **Week 03: If Statement**"
      ],
      "metadata": {
        "id": "wAJzPiuPfytH"
      }
    },
    {
      "cell_type": "code",
      "execution_count": null,
      "metadata": {
        "id": "K3kRlxvX6A7L",
        "colab": {
          "base_uri": "https://localhost:8080/"
        },
        "outputId": "b70e6387-1311-4bfa-edde-215573610e95"
      },
      "outputs": [
        {
          "output_type": "stream",
          "name": "stdout",
          "text": [
            "Audi\n",
            "BMW\n",
            "Subaru\n",
            "Toyota\n"
          ]
        }
      ],
      "source": [
        "# Exercise 1\n",
        "cars = ['audi', 'bmw', 'subaru', 'toyota']\n",
        "\n",
        "for car in cars:\n",
        "    if car =='bmw':\n",
        "        print(car.upper())\n",
        "    else:\n",
        "        print(car.title())\n",
        "\n"
      ]
    },
    {
      "cell_type": "code",
      "source": [
        "# Exercise 2\n",
        "requested_topping = 'anchovies'\n",
        "\n",
        "if requested_topping != 'anchovies':\n",
        "  print('Hold the anchovies')\n",
        "else:\n",
        "  print('Maslina, please serve the anchovies fast!!!')\n"
      ],
      "metadata": {
        "id": "fviS0BYz8fUO",
        "colab": {
          "base_uri": "https://localhost:8080/"
        },
        "outputId": "6b00087d-15c4-4d07-c3bd-53abe722800d"
      },
      "execution_count": null,
      "outputs": [
        {
          "output_type": "stream",
          "name": "stdout",
          "text": [
            "Maslina, please serve the anchovies fast!!!\n"
          ]
        }
      ]
    },
    {
      "cell_type": "code",
      "source": [
        "requested_topping = 'cheese'\n",
        "\n",
        "if requested_topping != 'anchovies':\n",
        "  print('Hold the anchovies')\n",
        "else:\n",
        "  print('Maslina, please serve the anchovies fast!!!')"
      ],
      "metadata": {
        "colab": {
          "base_uri": "https://localhost:8080/"
        },
        "id": "SIT1Oe_JHTi5",
        "outputId": "46fe41f1-d54a-4c32-ccbc-e603c547d865"
      },
      "execution_count": null,
      "outputs": [
        {
          "output_type": "stream",
          "name": "stdout",
          "text": [
            "Hold the anchovies\n"
          ]
        }
      ]
    },
    {
      "cell_type": "code",
      "source": [
        "# Exercise 3\n",
        "age_0 = 22\n",
        "age_1 = 18\n",
        "\n"
      ],
      "metadata": {
        "id": "hV59aeSw8uSF"
      },
      "execution_count": null,
      "outputs": []
    },
    {
      "cell_type": "code",
      "source": [
        "# Checking using different condition\n",
        "# age_0 < 21 and age_1 < 21 - False\n",
        "# age_0 < 21 or age_1 < 21 - True\n",
        "# age_0 >= 21 and age_1 >= 21 - False\n",
        "# age_0 >= 21 or age_1 >= 21 - True\n",
        "# age_0 >= 21 and age_1 >= 21 - False\n"
      ],
      "metadata": {
        "id": "69W0k1_NgKOS"
      },
      "execution_count": null,
      "outputs": []
    },
    {
      "cell_type": "code",
      "source": [
        "age_0 < 21 and age_1 < 21"
      ],
      "metadata": {
        "colab": {
          "base_uri": "https://localhost:8080/"
        },
        "id": "JVew21-kIb7J",
        "outputId": "c487445c-a810-4033-822a-1b74ddd8d457"
      },
      "execution_count": null,
      "outputs": [
        {
          "output_type": "execute_result",
          "data": {
            "text/plain": [
              "False"
            ]
          },
          "metadata": {},
          "execution_count": 17
        }
      ]
    },
    {
      "cell_type": "code",
      "source": [
        "age_0 < 21 or age_1 < 21"
      ],
      "metadata": {
        "colab": {
          "base_uri": "https://localhost:8080/"
        },
        "id": "1vWOTgoyIgjJ",
        "outputId": "fef993c3-0171-49fc-8982-d020c62ea438"
      },
      "execution_count": null,
      "outputs": [
        {
          "output_type": "execute_result",
          "data": {
            "text/plain": [
              "True"
            ]
          },
          "metadata": {},
          "execution_count": 18
        }
      ]
    },
    {
      "cell_type": "code",
      "source": [
        "age_0 >= 21 and age_1 >=21"
      ],
      "metadata": {
        "colab": {
          "base_uri": "https://localhost:8080/"
        },
        "id": "RFaJoTF1IiDw",
        "outputId": "eca1322f-c4e6-48ac-fcd8-c6dd3886e4aa"
      },
      "execution_count": null,
      "outputs": [
        {
          "output_type": "execute_result",
          "data": {
            "text/plain": [
              "False"
            ]
          },
          "metadata": {},
          "execution_count": 21
        }
      ]
    },
    {
      "cell_type": "code",
      "source": [
        "age_0 >= 21 or age_1 >= 21"
      ],
      "metadata": {
        "colab": {
          "base_uri": "https://localhost:8080/"
        },
        "id": "Dio89baNIlwW",
        "outputId": "dbccd191-ae38-4c3d-c958-86287ddcbf1e"
      },
      "execution_count": null,
      "outputs": [
        {
          "output_type": "execute_result",
          "data": {
            "text/plain": [
              "True"
            ]
          },
          "metadata": {},
          "execution_count": 20
        }
      ]
    },
    {
      "cell_type": "code",
      "source": [
        "age_0 >= 21 and age_1 >= 21\n"
      ],
      "metadata": {
        "colab": {
          "base_uri": "https://localhost:8080/"
        },
        "id": "zRogMLVDILp-",
        "outputId": "43d269f2-7e64-4182-bce9-4b17c0b11ca1"
      },
      "execution_count": null,
      "outputs": [
        {
          "output_type": "execute_result",
          "data": {
            "text/plain": [
              "False"
            ]
          },
          "metadata": {},
          "execution_count": 16
        }
      ]
    },
    {
      "cell_type": "markdown",
      "source": [
        "# **A point of ponder :)**"
      ],
      "metadata": {
        "id": "Wk6VCX9djopY"
      }
    },
    {
      "cell_type": "code",
      "source": [
        "# What would the following code evaluate to? True or False?\n",
        "# and why?\n",
        "age_0 and age_1 < 21\n",
        "\n",
        "## age_0 = 22, age_1 < 21 = TRUE, both are non numeric, Hence the results TRUE"
      ],
      "metadata": {
        "id": "9xZGmLTVkHlh"
      },
      "execution_count": null,
      "outputs": []
    },
    {
      "cell_type": "code",
      "source": [
        "age_0 and age_1 > 21"
      ],
      "metadata": {
        "colab": {
          "base_uri": "https://localhost:8080/"
        },
        "id": "JZGWb5jCIwtM",
        "outputId": "bafcf592-fab1-4445-ca57-1c77104c9aa7"
      },
      "execution_count": null,
      "outputs": [
        {
          "output_type": "execute_result",
          "data": {
            "text/plain": [
              "False"
            ]
          },
          "metadata": {},
          "execution_count": 23
        }
      ]
    },
    {
      "cell_type": "code",
      "source": [
        "age_0 and age_1 < 21"
      ],
      "metadata": {
        "colab": {
          "base_uri": "https://localhost:8080/"
        },
        "id": "1JL5X3ECKTQ-",
        "outputId": "116606f4-7dba-48d6-cc39-5d5707d15698"
      },
      "execution_count": null,
      "outputs": [
        {
          "output_type": "execute_result",
          "data": {
            "text/plain": [
              "True"
            ]
          },
          "metadata": {},
          "execution_count": 24
        }
      ]
    },
    {
      "cell_type": "code",
      "source": [
        "# Exercise 4 (using the keyword in)\n",
        "requested_topping = ['mushrooms', 'onions', 'pineapple']\n",
        "\n",
        "# Check whether mushrooms is in the topping list\n",
        "# case sensitive\n",
        "'mushrooms' in requested_topping\n",
        "\n",
        "# Check whether pepperoni is in the topping list\n",
        "'pepperoni' in requested_topping"
      ],
      "metadata": {
        "id": "z5wPseRl-VyI",
        "colab": {
          "base_uri": "https://localhost:8080/"
        },
        "outputId": "aaf4ace0-b1f9-43c8-ec08-f5fd41f35f9e"
      },
      "execution_count": null,
      "outputs": [
        {
          "output_type": "execute_result",
          "data": {
            "text/plain": [
              "False"
            ]
          },
          "metadata": {},
          "execution_count": 25
        }
      ]
    },
    {
      "cell_type": "code",
      "source": [
        "# Exercise 5\n",
        "banned_users = ['andrew', 'carolina', 'david']\n",
        "\n",
        "# Check whether marie, 007 and andrew is in the banned user list\n",
        "\n",
        "user = 'marie'\n",
        "if user not in banned_users:\n",
        "  print(user.title()+ ', you can post response if you wish.')\n",
        "\n",
        "user = 7\n",
        "if user not in banned_users:\n",
        "  print(str(user)+ ', you can post response if you wish.')\n",
        "\n",
        "\n",
        "#user = '7'\n",
        "#user = 'andrew'\n"
      ],
      "metadata": {
        "id": "RWb1iy4I-eFb",
        "colab": {
          "base_uri": "https://localhost:8080/"
        },
        "outputId": "6cd20d74-1649-4b98-cbe7-6c35e6b7aa6c"
      },
      "execution_count": null,
      "outputs": [
        {
          "output_type": "stream",
          "name": "stdout",
          "text": [
            "Marie, you can post response if you wish.\n",
            "7, you can post response if you wish.\n"
          ]
        }
      ]
    },
    {
      "cell_type": "code",
      "source": [
        "# Try it yourself\n",
        "# Try making sense of it\n",
        "car = 'subaru'\n",
        "print(\"Is car == 'subaru'? I predict True.\")\n",
        "print(car == \"subaru\")\n",
        "\n",
        "# this is a logical comparison using == , not printing string, hence result is True\n",
        "\n",
        "#print(\"\\nIs car == 'audi'? I predict False\")\n",
        "#print(car == 'audi')\n",
        "\n",
        "\n"
      ],
      "metadata": {
        "id": "Usq-CnrjCi71",
        "colab": {
          "base_uri": "https://localhost:8080/"
        },
        "outputId": "e0a80e6c-c299-4c7f-f587-9095ee068728"
      },
      "execution_count": null,
      "outputs": [
        {
          "output_type": "stream",
          "name": "stdout",
          "text": [
            "Is car == 'subaru'? I predict True.\n",
            "True\n"
          ]
        }
      ]
    },
    {
      "cell_type": "code",
      "source": [
        "# If statement\n",
        "age = 18\n",
        "if age>=18:\n",
        "  print(\"You are old enough to vote\")\n",
        "  print(\"Have you registered to vote yet\")\n",
        "  print(\"Oh ya, tak yah register pun\")\n",
        "else:\n",
        "  print(\"Too bad...You would have to wait for GE17\")\n"
      ],
      "metadata": {
        "id": "BN5LXsVWDN_b",
        "colab": {
          "base_uri": "https://localhost:8080/"
        },
        "outputId": "c46557ae-8d59-4826-d85b-20446c88a93d"
      },
      "execution_count": null,
      "outputs": [
        {
          "output_type": "stream",
          "name": "stdout",
          "text": [
            "You are old enough to vote\n",
            "Have you registered to vote yet\n",
            "Oh ya, tak yah register pun\n"
          ]
        }
      ]
    },
    {
      "cell_type": "code",
      "source": [
        "# Given the if-elif-else statement\n",
        "age = 55\n",
        "if age < 4:\n",
        "    print(\"Your admission rate is RM0.\")\n",
        "elif age < 18:\n",
        "    print(\"Your admission rate is RM5.\")\n",
        "else:\n",
        "    print(\"Your admission rate is RM10.\")"
      ],
      "metadata": {
        "colab": {
          "base_uri": "https://localhost:8080/"
        },
        "id": "5lNf9lMgEO4H",
        "outputId": "a64a8cfc-78a9-40d4-a8f2-9aaaf9828704"
      },
      "execution_count": null,
      "outputs": [
        {
          "output_type": "stream",
          "name": "stdout",
          "text": [
            "Your admission rate is RM10.\n"
          ]
        }
      ]
    },
    {
      "cell_type": "code",
      "source": [
        "# Exercise 6 - Revising the previous code for a cleaner version\n",
        "user = 'andrew'\n",
        "age = 67\n",
        "if age < 4:\n",
        "    rate = 0\n",
        "elif age < 18:\n",
        "    rate = 5\n",
        "elif age < 65:\n",
        "    rate = 10\n",
        "else:\n",
        "    rate = 5\n",
        "print('Your admission rate is RM' + str(rate) + \", \"+ user.title() + \".\")"
      ],
      "metadata": {
        "id": "litAhuvSGR6l",
        "colab": {
          "base_uri": "https://localhost:8080/"
        },
        "outputId": "e244e6a7-89fc-48a1-bda5-2e043feda791"
      },
      "execution_count": null,
      "outputs": [
        {
          "output_type": "stream",
          "name": "stdout",
          "text": [
            "Your admission rate is RM5, Andrew.\n"
          ]
        }
      ]
    },
    {
      "cell_type": "code",
      "source": [
        "user"
      ],
      "metadata": {
        "colab": {
          "base_uri": "https://localhost:8080/"
        },
        "id": "yNkbKow5SoZI",
        "outputId": "5c9c32ec-abbf-4235-9712-33fa7c06e4b7"
      },
      "execution_count": null,
      "outputs": [
        {
          "output_type": "execute_result",
          "data": {
            "text/plain": [
              "7"
            ]
          },
          "metadata": {},
          "execution_count": 51
        }
      ]
    },
    {
      "cell_type": "code",
      "source": [
        "# Exercise 7 - end the code using elif for easier interpretation\n",
        "age = 67\n",
        "\n",
        "if age < 4:\n",
        "    rate = 0\n",
        "elif age < 18:\n",
        "    rate = 5\n",
        "elif age < 65:\n",
        "    rate = 10\n",
        "elif age >= 65:\n",
        "    rate = 5\n",
        "    print('Your admission rate is RM' + str(rate) + \", \"+ user.title() + \".\")"
      ],
      "metadata": {
        "id": "T6AvirgKHEWz",
        "colab": {
          "base_uri": "https://localhost:8080/"
        },
        "outputId": "187a94c1-f74b-4ae6-85d3-157ccbadaf72"
      },
      "execution_count": null,
      "outputs": [
        {
          "output_type": "stream",
          "name": "stdout",
          "text": [
            "Your admission rate is RM5, Andrew.\n"
          ]
        }
      ]
    },
    {
      "cell_type": "code",
      "source": [
        "# Exercise 8 - multiple if\n",
        "requested_topping = ['mushrooms', 'extra cheese']\n",
        "\n",
        "if 'mushrooms' in requested_topping:\n",
        "    print(\"Adding mushrooms\")\n",
        "if 'pepperoni' in requested_topping:\n",
        "    print(\"Adding pepperoni\")\n",
        "if 'extra cheese' in requested_topping:\n",
        "    print(\"Adding extra cheese\")\n",
        "\n",
        "\n",
        "print(\"\\nFinished making your pizza!!!!\")\n",
        "\n",
        "#\\n is use to create space"
      ],
      "metadata": {
        "id": "FUPOtDHjXZAr",
        "colab": {
          "base_uri": "https://localhost:8080/"
        },
        "outputId": "73b19f91-d40f-4590-e011-b631df9b8a62"
      },
      "execution_count": null,
      "outputs": [
        {
          "output_type": "stream",
          "name": "stdout",
          "text": [
            "Adding mushrooms\n",
            "Adding extra cheese\n",
            "\n",
            "Finished making your pizza!!!!\n"
          ]
        }
      ]
    },
    {
      "cell_type": "code",
      "source": [
        "# Exercise 9 - To check for special conditions / items\n",
        "requested_toppings = ['mushrooms', 'extra cheese', 'green peppers']\n",
        "\n",
        "for requested_toppings in requested_toppings:\n",
        "    if requested_toppings == 'green peppers':\n",
        "        print(\"Sorry, we are out of green peppers right now!!\")\n",
        "    else:\n",
        "        print(\"Adding \" + requested_toppings + \".\")\n",
        "\n",
        "print(\"\\nFinished making your pizza!\")"
      ],
      "metadata": {
        "id": "sy9baNJxYusX",
        "colab": {
          "base_uri": "https://localhost:8080/"
        },
        "outputId": "69814762-49ff-463a-e246-afb73fbdcc9a"
      },
      "execution_count": null,
      "outputs": [
        {
          "output_type": "stream",
          "name": "stdout",
          "text": [
            "Adding mushrooms.\n",
            "Adding extra cheese.\n",
            "Sorry, we are out of green peppers right now!!\n",
            "\n",
            "Finished making your pizza!\n"
          ]
        }
      ]
    },
    {
      "cell_type": "code",
      "source": [
        "# Exercise 10 - Checking for a list that is empty\n",
        "# Indentation is very important !!!!\n",
        "\n",
        "requested_toppings = []\n",
        "\n",
        "if requested_toppings:\n",
        "    for requested_toppings in requested_toppings:\n",
        "        print(\"Adding \" + requested_toppings + \".\")\n",
        "        print(\"\\nFinished making your pizza!!\")\n",
        "else:\n",
        "    print(\"Are you sure you want to make a plain pizza?\")\n"
      ],
      "metadata": {
        "id": "s_0W3DsnUq02",
        "colab": {
          "base_uri": "https://localhost:8080/"
        },
        "outputId": "9dc18e4b-260a-4113-941f-b76df18508a8"
      },
      "execution_count": null,
      "outputs": [
        {
          "output_type": "stream",
          "name": "stdout",
          "text": [
            "Are you sure you want to make a plain pizza?\n"
          ]
        }
      ]
    },
    {
      "cell_type": "code",
      "source": [
        "# Exercise 11 - Using multiple lists\n",
        "available_toppings = ['mushrooms', 'olives', 'green peppers', 'pepperoni',\n",
        "                      'pineapple', 'extra cheese']\n",
        "requested_toppings = ['mushrooms', 'french fries', 'extra cheese', 'crab meat']\n",
        "\n",
        "for requested_toppings in requested_toppings:\n",
        "    if requested_toppings in available_toppings:\n",
        "        print(\"Adding \" + requested_toppings + \".\")\n",
        "\n",
        "    else:\n",
        "        print(\"Sorry, we are out of \" + requested_toppings + \" right now!!\")\n",
        "\n",
        "print(\"\\nFinished making your pizza!\")\n"
      ],
      "metadata": {
        "id": "j4EyZ_3KhSAR",
        "colab": {
          "base_uri": "https://localhost:8080/"
        },
        "outputId": "fb9949df-f088-4fc2-ce08-be5981f6e14a"
      },
      "execution_count": null,
      "outputs": [
        {
          "output_type": "stream",
          "name": "stdout",
          "text": [
            "Adding mushrooms.\n",
            "Sorry, we are out of french fries right now!!\n",
            "Adding extra cheese.\n",
            "Sorry, we are out of crab meat right now!!\n",
            "\n",
            "Finished making your pizza!\n"
          ]
        }
      ]
    },
    {
      "cell_type": "code",
      "source": [
        "# Exercise 12 - Accessing the value using the key in dictionary\n",
        "alien_0 = {'color': 'green', 'points':5}\n",
        "\n",
        "# get the alien's color\n",
        "print(alien_0['color'])\n",
        "\n",
        "# get the alien's point\n",
        "print(alien_0['points'])"
      ],
      "metadata": {
        "id": "DmUQQo0li7bg",
        "colab": {
          "base_uri": "https://localhost:8080/"
        },
        "outputId": "ca8ebf6a-2296-4d2c-95f4-afde70e4c4cb"
      },
      "execution_count": null,
      "outputs": [
        {
          "output_type": "stream",
          "name": "stdout",
          "text": [
            "green\n",
            "5\n"
          ]
        }
      ]
    },
    {
      "cell_type": "code",
      "source": [
        "# Getting back alien_0 dictionary\n",
        "alien_0"
      ],
      "metadata": {
        "colab": {
          "base_uri": "https://localhost:8080/"
        },
        "id": "3Zr4FGAPebVn",
        "outputId": "67785647-fb01-4ef6-8f29-6ce22e2ebbe9"
      },
      "execution_count": null,
      "outputs": [
        {
          "output_type": "execute_result",
          "data": {
            "text/plain": [
              "{'color': 'green', 'points': 5}"
            ]
          },
          "metadata": {},
          "execution_count": 81
        }
      ]
    },
    {
      "cell_type": "code",
      "source": [
        "# Start building the alien_0 dictionary from scratch\n",
        "alien_0 = {}\n",
        "alien_0 ['color'] = 'green'\n",
        "alien_0 ['points'] = 5\n",
        "\n",
        "print(alien_0)"
      ],
      "metadata": {
        "id": "w1jfQOdDayLN",
        "colab": {
          "base_uri": "https://localhost:8080/"
        },
        "outputId": "e69622b8-f97c-48d3-b8af-288af25a8db6"
      },
      "execution_count": null,
      "outputs": [
        {
          "output_type": "stream",
          "name": "stdout",
          "text": [
            "{'color': 'green', 'points': 5}\n"
          ]
        }
      ]
    },
    {
      "cell_type": "code",
      "source": [
        "alien_0"
      ],
      "metadata": {
        "colab": {
          "base_uri": "https://localhost:8080/"
        },
        "id": "emud4BEneaVW",
        "outputId": "8b5eefda-3e7c-4537-dba5-9a675c71288f"
      },
      "execution_count": null,
      "outputs": [
        {
          "output_type": "execute_result",
          "data": {
            "text/plain": [
              "{'color': 'green', 'points': 5}"
            ]
          },
          "metadata": {},
          "execution_count": 67
        }
      ]
    },
    {
      "cell_type": "code",
      "source": [
        "# Exercise 13 - extract the value from the dictionary\n",
        "# put in a variable called new_points\n",
        "# Print out the value\n",
        "alien_0 = {'color': 'green', 'points':5}\n",
        "\n",
        "new_points = alien_0['points']\n",
        "print(\"You have just earn \" + str(new_points) + \" points.\")\n"
      ],
      "metadata": {
        "id": "Dg5C29oafPu5",
        "colab": {
          "base_uri": "https://localhost:8080/"
        },
        "outputId": "8bbeb5e3-2037-4048-83cf-1a232a6eb67e"
      },
      "execution_count": null,
      "outputs": [
        {
          "output_type": "stream",
          "name": "stdout",
          "text": [
            "You have just earn 5 points.\n"
          ]
        }
      ]
    },
    {
      "cell_type": "code",
      "source": [
        "# Exercise 14 - change the color value in the dictionary\n",
        "\n",
        "# Print out the new color\n",
        "alien_0 ['color'] = 'indigo'\n",
        "print(\"The alien is now\",alien_0['color'])"
      ],
      "metadata": {
        "id": "aqLdYAec4UJi",
        "colab": {
          "base_uri": "https://localhost:8080/"
        },
        "outputId": "174a89cf-1e07-421b-cd99-67ee1598433e"
      },
      "execution_count": null,
      "outputs": [
        {
          "output_type": "stream",
          "name": "stdout",
          "text": [
            "The alien is now indigo\n"
          ]
        }
      ]
    },
    {
      "cell_type": "code",
      "source": [
        "# Exercise 15 - change the value in the dictionary; using if-elif-else statement\n",
        "alien_0 = {'x_position': 0, 'y_position': 25, 'speed': 'fast'}\n",
        "\n",
        "# Move the alien to the right.\n",
        "# Determine how far to move the alien based on its current speed.\n",
        "if alien_0['speed'] == 'slow':\n",
        "    alien_0['x_position'] = 1\n",
        "elif alien_0['speed'] == 'medium':\n",
        "    alien_0['x_position'] = 2\n",
        "elif alien_0['speed'] == 'fast':\n",
        "    alien_0['x_position'] = 3\n",
        "\n",
        "print(alien_0)\n",
        "\n",
        "# The new position is the old position plus the increment.\n"
      ],
      "metadata": {
        "id": "vfDw_r_L5jPz",
        "colab": {
          "base_uri": "https://localhost:8080/"
        },
        "outputId": "a64aa8cb-d30e-4e79-84c4-5308be400a9f"
      },
      "execution_count": null,
      "outputs": [
        {
          "output_type": "stream",
          "name": "stdout",
          "text": [
            "{'x_position': 3, 'y_position': 25, 'speed': 'fast'}\n"
          ]
        }
      ]
    },
    {
      "cell_type": "code",
      "source": [
        "# Exercise 16 - using del() function\n",
        "alien_0 = {'color': 'green', 'points': 5}\n",
        "print(alien_0)\n",
        "\n",
        "del alien_0['points']\n",
        "\n",
        "print(alien_0)\n",
        "\n",
        "# Delete the points from the dictionary"
      ],
      "metadata": {
        "id": "efbBa0SB6hlj",
        "colab": {
          "base_uri": "https://localhost:8080/"
        },
        "outputId": "9cb43e5f-ee3f-4629-8d1f-44f8c3fde32c"
      },
      "execution_count": null,
      "outputs": [
        {
          "output_type": "stream",
          "name": "stdout",
          "text": [
            "{'color': 'green', 'points': 5}\n",
            "{'color': 'green'}\n"
          ]
        }
      ]
    },
    {
      "cell_type": "code",
      "source": [
        "# Exercise 17 - break dictionary into several lines\n",
        "fav_prog = {\n",
        "    'jen': 'python',\n",
        "    'sarah': 'c',\n",
        "    'edward': 'ruby',\n",
        "    'phil': 'python'\n",
        "}\n",
        "\n",
        "\n",
        "print(\"Phil's favourite language is\", fav_prog['phil'].title() + \".\")"
      ],
      "metadata": {
        "id": "KtsGcBJC8MBy",
        "colab": {
          "base_uri": "https://localhost:8080/"
        },
        "outputId": "a071cda8-080a-4a21-cde8-75894252d0fa"
      },
      "execution_count": null,
      "outputs": [
        {
          "output_type": "stream",
          "name": "stdout",
          "text": [
            "Phil's favourite language is Python.\n"
          ]
        }
      ]
    },
    {
      "cell_type": "code",
      "source": [
        "# Exercise 18 - print out the key-value pairs using item() function\n",
        "# using the for function\n",
        "fav_prog = {\n",
        "    'jen': 'python',\n",
        "    'sarah': 'c',\n",
        "    'edward': 'ruby',\n",
        "    'phil': 'python'\n",
        "}\n",
        "\n",
        "for name, sub in fav_prog.items():\n",
        "    print(name.title() + \"'s fav language is \" + sub.title() + \".\")"
      ],
      "metadata": {
        "colab": {
          "base_uri": "https://localhost:8080/"
        },
        "id": "piktzd1c9b7c",
        "outputId": "a0d5b745-b72d-4507-83d7-41f268f6fb98"
      },
      "execution_count": null,
      "outputs": [
        {
          "output_type": "stream",
          "name": "stdout",
          "text": [
            "Jen's fav language is Python.\n",
            "Sarah's fav language is C.\n",
            "Edward's fav language is Ruby.\n",
            "Phil's fav language is Python.\n"
          ]
        }
      ]
    },
    {
      "cell_type": "code",
      "source": [
        "# Exercise 19 - print out the key-value pairs using key() function\n",
        "favorite_languages = {\n",
        "    'jen': 'python',\n",
        "    'sarah': 'c',\n",
        "    'edward': 'ruby',\n",
        "    'phil': 'python',\n",
        "    }\n",
        "\n",
        "friends=['phil','sarah']\n",
        "\n",
        "for name in fav_prog.keys():\n",
        "    if name in friends:\n",
        "        print(\"Hi \" + name.title() + \", your fav prog is \" + fav_prog[name].title() + \"!\")"
      ],
      "metadata": {
        "id": "HDxDyGRj_LLh",
        "colab": {
          "base_uri": "https://localhost:8080/"
        },
        "outputId": "1274677b-e498-4809-bb6c-372a78f5b3d6"
      },
      "execution_count": null,
      "outputs": [
        {
          "output_type": "stream",
          "name": "stdout",
          "text": [
            "Hi Sarah, your fav prog is C!\n",
            "Hi Phil, your fav prog is Python!\n"
          ]
        }
      ]
    },
    {
      "cell_type": "code",
      "source": [
        "# Exercise 20 - print out the key-value pairs using not in function\n",
        "favorite_languages = {\n",
        "    'jen': 'python',\n",
        "    'sarah': 'c',\n",
        "    'edward': 'ruby',\n",
        "    'phil': 'python',\n",
        "    }\n",
        "\n",
        "if 'maslina' not in fav_prog.keys():\n",
        "    print(\"Maslina, please study hard!!!\")"
      ],
      "metadata": {
        "id": "2SnKUKMEAA8t",
        "colab": {
          "base_uri": "https://localhost:8080/"
        },
        "outputId": "482ff139-98e3-46e8-bc10-30a98dd07d4a"
      },
      "execution_count": null,
      "outputs": [
        {
          "output_type": "stream",
          "name": "stdout",
          "text": [
            "Maslina, please study hard!!!\n"
          ]
        }
      ]
    },
    {
      "cell_type": "code",
      "source": [
        "# Exercise 21 - Sort keys in order\n",
        "# Print out the message thanking them to take the poll\n",
        "favorite_languages = {\n",
        "    'jen': 'python',\n",
        "    'sarah': 'c',\n",
        "    'edward': 'ruby',\n",
        "    'phil': 'python',\n",
        "    }\n",
        "\n",
        "# create a for loop in this case\n",
        "# use the sorted() to sort the keys names in alphabetical order\n",
        "# Print out the message thanking them to the poll\n",
        "\n",
        "for name in sorted(favorite_languages.keys()):\n",
        "    print(name.title() + \" , thank you for taking poll.\")\n"
      ],
      "metadata": {
        "id": "6QBXlZM1Axk4",
        "colab": {
          "base_uri": "https://localhost:8080/"
        },
        "outputId": "d4a5e1ec-9576-4d1a-9204-9558a5d80d3e"
      },
      "execution_count": 5,
      "outputs": [
        {
          "output_type": "stream",
          "name": "stdout",
          "text": [
            "Edward , thank you for taking poll.\n",
            "Jen , thank you for taking poll.\n",
            "Phil , thank you for taking poll.\n",
            "Sarah , thank you for taking poll.\n"
          ]
        }
      ]
    },
    {
      "cell_type": "code",
      "source": [
        "# Exercise 22 - Sort values in order\n",
        "# remove redundant value using set() function\n",
        "favorite_languages = {\n",
        "    'jen': 'python',\n",
        "    'sarah': 'c',\n",
        "    'edward': 'ruby',\n",
        "    'phil': 'python',\n",
        "    }\n",
        "\n",
        "# print a introductory message\n",
        "print(\"The folowing languages have been mentioned:\")\n",
        "\n",
        "# create a for loop in this case\n",
        "# use the sorted() to sort the values in reverse alphabetical order\n",
        "# use set() function to remove redundant values\n",
        "\n",
        "for name in sorted(set(favorite_languages.values()), reverse=True):\n",
        "    print(name.title())\n"
      ],
      "metadata": {
        "id": "CGqvlY1-BQ55",
        "colab": {
          "base_uri": "https://localhost:8080/"
        },
        "outputId": "d5901548-ac2a-4493-ffd5-4ddee316dbac"
      },
      "execution_count": 24,
      "outputs": [
        {
          "output_type": "stream",
          "name": "stdout",
          "text": [
            "The folowing languages have been mentioned:\n",
            "Ruby\n",
            "Python\n",
            "C\n"
          ]
        }
      ]
    },
    {
      "cell_type": "code",
      "source": [
        "sorted?\n"
      ],
      "metadata": {
        "id": "2lnt-P46MZVF"
      },
      "execution_count": 20,
      "outputs": []
    },
    {
      "cell_type": "code",
      "source": [
        "range(30)\n"
      ],
      "metadata": {
        "colab": {
          "base_uri": "https://localhost:8080/"
        },
        "id": "w6F-kzmTwbbC",
        "outputId": "b28f9668-1991-4c7f-d8f3-c99ef10b577c"
      },
      "execution_count": null,
      "outputs": [
        {
          "output_type": "execute_result",
          "data": {
            "text/plain": [
              "range(0, 30)"
            ]
          },
          "metadata": {},
          "execution_count": 89
        }
      ]
    },
    {
      "cell_type": "code",
      "source": [
        "# Exercise 23 - append new data into dictionary using function\n",
        "# Make an empty list for storing aliens.\n",
        "aliens = []\n",
        "\n",
        "# create a for loop to make 30 green aliens\n",
        "# store in a variable named new_alien\n",
        "# using the append() function\n",
        "\n",
        "for alien_number in range(30):\n",
        "    new_alien = {'color': 'green', 'point': 5,'speed':'slow'}\n",
        "    aliens.append(new_alien)\n",
        "\n",
        "#create a for a loop and if-elif statement\n",
        "for alien in aliens[0:3]:\n",
        "    if alien['color'] =='green':\n",
        "        alien['color'] = 'yellow'\n",
        "        alien['speed'] = 'medium'\n",
        "        alien['points'] = 10\n",
        "    elif alien['color'] =='yellow':\n",
        "        alien['color'] = 'red'\n",
        "        alien['speed'] = 'fast'\n",
        "        alien['points'] = 5\n",
        "\n",
        "#show first 5 aliens using a for loop\n",
        "for alien in aliens[0:5]:\n",
        "    print(alien)\n",
        "\n",
        "#show how many aliens have been created using the len() function\n",
        "print(\"\\n..............................\\n\")\n",
        "print(\"Total number of aliens: \" + str(len(aliens)))"
      ],
      "metadata": {
        "id": "CrP6r-jvBzht",
        "colab": {
          "base_uri": "https://localhost:8080/"
        },
        "outputId": "a41b272c-f493-46b7-cdd8-827919e684ec"
      },
      "execution_count": 36,
      "outputs": [
        {
          "output_type": "stream",
          "name": "stdout",
          "text": [
            "{'color': 'yellow', 'point': 5, 'speed': 'medium', 'points': 10}\n",
            "{'color': 'yellow', 'point': 5, 'speed': 'medium', 'points': 10}\n",
            "{'color': 'yellow', 'point': 5, 'speed': 'medium', 'points': 10}\n",
            "{'color': 'green', 'point': 5, 'speed': 'slow'}\n",
            "{'color': 'green', 'point': 5, 'speed': 'slow'}\n",
            "\n",
            "..............................\n",
            "\n",
            "Total number of aliens: 30\n"
          ]
        }
      ]
    },
    {
      "cell_type": "code",
      "source": [
        "len(aliens)"
      ],
      "metadata": {
        "colab": {
          "base_uri": "https://localhost:8080/"
        },
        "id": "gfVuibY4QhzO",
        "outputId": "b11b65e4-3867-4e56-860f-03b7498b3d08"
      },
      "execution_count": 32,
      "outputs": [
        {
          "output_type": "execute_result",
          "data": {
            "text/plain": [
              "30"
            ]
          },
          "metadata": {},
          "execution_count": 32
        }
      ]
    },
    {
      "cell_type": "code",
      "source": [
        "# Exercise 24 - A list in the dictionary\n",
        "# Store information about a pizza being ordered.\n",
        "pizza = {\n",
        "    'crust': 'thick',\n",
        "    'toppings': ['mushrooms', 'extra cheese'],\n",
        "    }\n",
        "\n",
        "# Summarize the order\n",
        "# By having the following message printed out\n",
        "# Use print() and a for loop\n",
        "\n",
        "print(\"You ordered a \" + pizza['crust'] +\"-crust pizza with the following toppings:\")\n",
        "\n",
        "for topping in pizza['toppings']:\n",
        "    print(\"\\t\" + topping)\n"
      ],
      "metadata": {
        "id": "iA-z9NxRDixp",
        "colab": {
          "base_uri": "https://localhost:8080/"
        },
        "outputId": "62d215c9-0d24-414d-d0d5-e89972393903"
      },
      "execution_count": 43,
      "outputs": [
        {
          "output_type": "stream",
          "name": "stdout",
          "text": [
            "You ordered a thick-crust pizza with the following toppings:\n",
            "\tmushrooms\n",
            "\textra cheese\n"
          ]
        }
      ]
    },
    {
      "cell_type": "code",
      "source": [
        "# Exercise 25 - a list in the dictionary\n",
        "favorite_languages= {\n",
        "    'jen': ['python','ruby'],\n",
        "    'sarah': ['c'],\n",
        "    'edward': ['ruby','go'],\n",
        "    'phil': ['python','haskell']\n",
        "}\n",
        "\n",
        "#create two for loops to print a message\n",
        "#use items() function to access the key-value pair in dictionary\n",
        "#use the keyword in\n",
        "\n",
        "for name, languages in favorite_languages.items():\n",
        "    print(name.title()+ \" 's favorite languages are:\")\n",
        "    for language in languages:\n",
        "        print(\"\\t\" + language.title())"
      ],
      "metadata": {
        "id": "q0MODSGDFsgU",
        "colab": {
          "base_uri": "https://localhost:8080/"
        },
        "outputId": "e7e92647-156f-49c7-8b90-74e7039aa2db"
      },
      "execution_count": 50,
      "outputs": [
        {
          "output_type": "stream",
          "name": "stdout",
          "text": [
            "Jen 's favorite languages are:\n",
            "\tPython\n",
            "\tRuby\n",
            "Sarah 's favorite languages are:\n",
            "\tC\n",
            "Edward 's favorite languages are:\n",
            "\tRuby\n",
            "\tGo\n",
            "Phil 's favorite languages are:\n",
            "\tPython\n",
            "\tHaskell\n"
          ]
        }
      ]
    },
    {
      "cell_type": "code",
      "source": [
        "# Exercise 26 - A dictionary in a dictionary\n",
        "#Given the following famous scientists dictionary\n",
        "users = {\n",
        "    'aeinstein':{\n",
        "        'first': 'albert',\n",
        "        'last':'einstein',\n",
        "        'location':'princeton',\n",
        "    },\n",
        "    'mcurie': {\n",
        "        'first': 'marie',\n",
        "        'last':'curie',\n",
        "        'location':'paris'\n",
        "    }\n",
        "}\n",
        "\n",
        "for username, user_info in users.items():\n",
        "    print(\"Username: \" + username.title())\n",
        "    full_name = user_info['first']+\" \"+ user_info[\"last\"]\n",
        "    location = user_info['location']\n",
        "\n",
        "    print(\"\\tFull name: \" + full_name.title())\n",
        "    print(\"\\tLocation: \" + location.title())\n"
      ],
      "metadata": {
        "id": "wWibIDl0Gw2O",
        "colab": {
          "base_uri": "https://localhost:8080/"
        },
        "outputId": "719a23e1-5a56-4969-9ed0-af08ef926d60"
      },
      "execution_count": 61,
      "outputs": [
        {
          "output_type": "stream",
          "name": "stdout",
          "text": [
            "Username: Aeinstein\n",
            "\tFull name: Albert Einstein\n",
            "\tLocation: Princeton\n",
            "Username: Mcurie\n",
            "\tFull name: Marie Curie\n",
            "\tLocation: Paris\n"
          ]
        }
      ]
    },
    {
      "cell_type": "code",
      "source": [
        "from IPython.core.prefilter import AssignmentChecker\n",
        "# Exercise 27 - using input()\n",
        "# Assignment\n",
        "\n",
        "message = input(\"Tell me something, and I will repeat it back to you:\")\n",
        "print(message + '\\n')\n",
        "\n",
        "#use the input() function to get user's name\n",
        "#print out the message\n",
        "nama = input(\"Please tell me your name:\")\n",
        "print(\"Hello, \"+ nama +\"!\" + '\\n')\n",
        "\n",
        "#use the inout() function to get user's first name\n",
        "#print out the message\n",
        "msg = \"If you tell us who you are, we can personalize a message just for you.\"\n",
        "msg +=\"What is your first name?\"\n",
        "\n",
        "name = input(msg)\n",
        "print(\"Hello, \"+ name+\"!\")\n"
      ],
      "metadata": {
        "id": "xY2CS0_CIEqr",
        "colab": {
          "base_uri": "https://localhost:8080/"
        },
        "outputId": "89a49eba-1a6a-4582-8ba8-b0beb91ab7e5"
      },
      "execution_count": 66,
      "outputs": [
        {
          "output_type": "stream",
          "name": "stdout",
          "text": [
            "Tell me something, and I will repeat it back to you:Happy\n",
            "Happy\n",
            "\n",
            "Please tell me your name:Maslina\n",
            "Hello, Maslina!\n",
            "\n",
            "If you tell us who you are, we can personalize a message just for you.What is your first name? Abu Bakar\n",
            "Hello,  Abu Bakar!\n"
          ]
        }
      ]
    },
    {
      "cell_type": "code",
      "source": [
        "# Exercise 28 - using int() to accept numerical input: True of False\n",
        "# Test the input prompt for age by inputting the following info\n",
        "#1) 18\n",
        "#2) Eighteen\n",
        "age = int(input(\"How old are you?\"))\n",
        "\n",
        "#Logical test\n",
        "#Would prompt an error\n",
        "#age >= 18\n",
        "\n",
        "# How to fix it?\n",
        "age = int(age)\n",
        "age>= 18"
      ],
      "metadata": {
        "id": "uWq2dvg3JR6c",
        "colab": {
          "base_uri": "https://localhost:8080/"
        },
        "outputId": "b190083b-502c-46e3-dfb2-6b468f013b18"
      },
      "execution_count": 70,
      "outputs": [
        {
          "name": "stdout",
          "output_type": "stream",
          "text": [
            "How old are you?18\n"
          ]
        },
        {
          "output_type": "execute_result",
          "data": {
            "text/plain": [
              "True"
            ]
          },
          "metadata": {},
          "execution_count": 70
        }
      ]
    },
    {
      "cell_type": "code",
      "source": [
        "# Exercise 29 - using int()to accept numerical input and check for certain condition\n",
        "# use the int() to convert the height to numeric\n",
        "#1) 150\n",
        "#2) Hundred fifty\n",
        "\n",
        "height = int(input(\"What is your height?\"))\n",
        "if height < 90:\n",
        "    print(\"You'll able to ride for free\")\n",
        "else:\n",
        "    print(\"You have to pay\")\n",
        "\n"
      ],
      "metadata": {
        "id": "XR0IMpnzK7Ne",
        "colab": {
          "base_uri": "https://localhost:8080/"
        },
        "outputId": "4c547fc6-226a-42c2-fe52-59c28784e9d4"
      },
      "execution_count": 74,
      "outputs": [
        {
          "output_type": "stream",
          "name": "stdout",
          "text": [
            "What is your height?150\n",
            "You have to pay\n"
          ]
        }
      ]
    },
    {
      "cell_type": "code",
      "source": [
        "# Exercise 30 - The modulo operator to print message\n",
        "# use the input() and int() function to get a number from user\n",
        "#create an if-else statement to check whether the number given is an odd or even number\n",
        "#use the module sign to check for odd and even condition\n",
        "\n",
        "number = int(input(\"Enter a number, and I'll tell you if it's even or odd:\"))\n",
        "if (number % 2 == 0):\n",
        "    print('\\n The number '+ str(number)+' is even')\n",
        "else:\n",
        "    print('\\n The number '+ str(number)+' is odd')"
      ],
      "metadata": {
        "id": "x9OlZPDYL2ne",
        "colab": {
          "base_uri": "https://localhost:8080/"
        },
        "outputId": "0bfbef05-f673-444e-c729-40569e8213a2"
      },
      "execution_count": 77,
      "outputs": [
        {
          "output_type": "stream",
          "name": "stdout",
          "text": [
            "Enter a number, and I'll tell you if it's even or odd:59\n",
            "\n",
            " The number 59 is odd\n"
          ]
        }
      ]
    },
    {
      "cell_type": "code",
      "source": [
        "# Exercise 31: While loop\n",
        "# Define the current_number as 1\n",
        "current_number = 1\n",
        "\n",
        "#use the while loop to increase the number\n",
        "#print out the incremented number\n",
        "while current_number <= 5:\n",
        "    print(current_number)\n",
        "    current_number+=1\n",
        "\n",
        "#+=1 is append the value of 1 and stop until 5 as per the while function setting"
      ],
      "metadata": {
        "colab": {
          "base_uri": "https://localhost:8080/"
        },
        "id": "nsOCppqbimX-",
        "outputId": "5d56fd61-ac28-4ae5-eb6f-e24684d6e88f"
      },
      "execution_count": 78,
      "outputs": [
        {
          "output_type": "stream",
          "name": "stdout",
          "text": [
            "1\n",
            "2\n",
            "3\n",
            "4\n",
            "5\n"
          ]
        }
      ]
    },
    {
      "cell_type": "code",
      "source": [
        "# Exercise 32: let user choose when to quit\n",
        "#Create a prompt message\n",
        "msg = \"\\nTell me something, and I will repeat it back to you:\"\n",
        "msg += \"\\nEnter 'quit' to end the program.\"\n",
        "\n",
        "#Define an empty message\n",
        "message = ''\n",
        "\n",
        "#create a while loop to continuosuly getting response from users\n",
        "#quit the while loop if user input 'quit'\n",
        "while message != 'quit':\n",
        "    message = input(msg)\n",
        "\n",
        "    if message == 'quit':\n",
        "        print(message)"
      ],
      "metadata": {
        "colab": {
          "base_uri": "https://localhost:8080/"
        },
        "id": "vmBh8Ekbk9Zr",
        "outputId": "9f1870a0-0537-4f02-c082-57c60391126a"
      },
      "execution_count": 81,
      "outputs": [
        {
          "output_type": "stream",
          "name": "stdout",
          "text": [
            "\n",
            "Tell me something, and I will repeat it back to you:\n",
            "Enter 'quit' to end the program.I'm happy\n",
            "\n",
            "Tell me something, and I will repeat it back to you:\n",
            "Enter 'quit' to end the program.quit\n",
            "quit\n"
          ]
        }
      ]
    },
    {
      "cell_type": "code",
      "source": [
        "# Exercise 33: Using a flag as a signal\n",
        "#create a prompt message\n",
        "prompt = \"\\nTell me something, and I will repeat it back to you:\"\n",
        "prompt += \"\\nEnter 'quit' to end the program.\"\n",
        "\n",
        "#Define a flag\n",
        "active = True #this is the flag that i said just now\n",
        "\n",
        "#Incorporate the flag in the while loop\n",
        "while active:\n",
        "    message = input(prompt)\n",
        "\n",
        "    if message == 'quit':\n",
        "        active = False\n",
        "    else:\n",
        "        print(message)"
      ],
      "metadata": {
        "colab": {
          "base_uri": "https://localhost:8080/"
        },
        "id": "8M1uizo-mFUp",
        "outputId": "31ba11c8-ee9b-4a81-e0ea-3c5f193c3af8"
      },
      "execution_count": 83,
      "outputs": [
        {
          "name": "stdout",
          "output_type": "stream",
          "text": [
            "\n",
            "Tell me something, and I will repeat it back to you:\n",
            "Enter 'quit' to end the program.I'm happy\n",
            "I'm happy\n",
            "\n",
            "Tell me something, and I will repeat it back to you:\n",
            "Enter 'quit' to end the program.quit\n"
          ]
        }
      ]
    },
    {
      "cell_type": "code",
      "source": [
        "# Exercise 34: Using break to exit loop\n",
        "\n",
        "# Create a prompt message\n",
        "prompt = \"\\nPlease enter the name of a city you have visited:\"\n",
        "prompt += \"\\n(Enter 'quit' when you are finished.) \"\n",
        "\n",
        "# Create a while loop and incorporate a flag\n",
        "# Print the message\n",
        "\n",
        "while True:\n",
        "    city = input(prompt)\n",
        "\n",
        "    if city == 'quit':\n",
        "        break\n",
        "    else:\n",
        "        print(\"I'd go love to go to \" + city.title() + \"!\")"
      ],
      "metadata": {
        "colab": {
          "base_uri": "https://localhost:8080/"
        },
        "id": "asyEUd7DnjZm",
        "outputId": "03a4fadb-26fe-4ec7-ae30-74473dc87a7b"
      },
      "execution_count": 84,
      "outputs": [
        {
          "name": "stdout",
          "output_type": "stream",
          "text": [
            "\n",
            "Please enter the name of a city you have visited:\n",
            "(Enter 'quit' when you are finished.) Bangi\n",
            "I'd go love to go to Bangi!\n",
            "\n",
            "Please enter the name of a city you have visited:\n",
            "(Enter 'quit' when you are finished.) Seremban\n",
            "I'd go love to go to Seremban!\n",
            "\n",
            "Please enter the name of a city you have visited:\n",
            "(Enter 'quit' when you are finished.) quit\n"
          ]
        }
      ]
    },
    {
      "cell_type": "code",
      "source": [
        "# Exercise 35: Using continue in a loop\n",
        "\n",
        "# Define current_number as 0\n",
        "current_number = 0\n",
        "\n",
        "# Create a while loop to update current_number plus 1\n",
        "# Continue the while loop without increment if it is an even number\n",
        "# Use the modulo sign in this case\n",
        "# Print out the message\n",
        "while current_number < 20:\n",
        "    current_number += 1\n",
        "    if current_number % 2 == 0:\n",
        "        continue\n",
        "    print(current_number)"
      ],
      "metadata": {
        "colab": {
          "base_uri": "https://localhost:8080/"
        },
        "id": "JNpyVqwDojlO",
        "outputId": "8365295e-8072-48e9-f8af-44488e89cde7"
      },
      "execution_count": 90,
      "outputs": [
        {
          "output_type": "stream",
          "name": "stdout",
          "text": [
            "1\n",
            "3\n",
            "5\n",
            "7\n",
            "9\n",
            "11\n",
            "13\n",
            "15\n",
            "17\n",
            "19\n"
          ]
        }
      ]
    },
    {
      "cell_type": "code",
      "source": [
        "# Exercise 36: Using pop() function to move Items\n",
        "\n",
        "# Start with users that need to be verified - unconfirmed_users\n",
        "# Create an empty list to hold confirmed users\n",
        "unconfirmed_users = ['alice', 'brian', 'candace']\n",
        "confirmed_users = []\n",
        "\n",
        "# Verify each user until there are no more unconfirmed users\n",
        "# Move each verified user into the list of confirmed users\n",
        "# By using the while loop\n",
        "# Incorporate the pop() and append() function\n",
        "\n",
        "while unconfirmed_users:\n",
        "    current_user = unconfirmed_users.pop()\n",
        "\n",
        "    print(\"Verifying user: \" + current_user.title())\n",
        "    confirmed_users.append(current_user)\n",
        "\n",
        "\n",
        "# Display all confirmed users\n",
        "# Incorporate for loop in this case\n",
        "print('\\nThe following users have been confirmed: ')\n",
        "for confirmed_user in confirmed_users:\n",
        "    print(confirmed_user.title())\n",
        "\n",
        "# Print the final unconfirmed_users list\n",
        "print(\"\\nThe final uncomfirmed users are: \")\n",
        "print(unconfirmed_users)\n"
      ],
      "metadata": {
        "colab": {
          "base_uri": "https://localhost:8080/"
        },
        "id": "fr5EUwcdqv9E",
        "outputId": "d18d206f-6c17-440d-ebfd-c30beb50b997"
      },
      "execution_count": 96,
      "outputs": [
        {
          "output_type": "stream",
          "name": "stdout",
          "text": [
            "Verifying user: Candace\n",
            "Verifying user: Brian\n",
            "Verifying user: Alice\n",
            "\n",
            "The following users have been confirmed: \n",
            "Candace\n",
            "Brian\n",
            "Alice\n",
            "\n",
            "The final uncomfirmed users are: \n",
            "[]\n"
          ]
        }
      ]
    },
    {
      "cell_type": "code",
      "source": [
        "# Exercise 37: Removing All Instances of Specific Values from a List\n",
        "\n",
        "# Given the list of pets\n",
        "pets = ['dog', 'cat', 'dog', 'goldfish', 'cat', 'rabbit', 'cat']\n",
        "\n",
        "# Print out the list of pets available\n",
        "print(pets)\n",
        "\n",
        "# Use a while loop to remove a pet if it is in the list\n",
        "# Use the remove() function\n",
        "# print out the final list of pets\n",
        "while 'dog' in pets:\n",
        "    pets.remove('dog')\n",
        "print(pets)"
      ],
      "metadata": {
        "colab": {
          "base_uri": "https://localhost:8080/"
        },
        "id": "AyfyguErr6YN",
        "outputId": "a12b41ee-5f1f-47c7-9ad7-db73e45cad57"
      },
      "execution_count": 99,
      "outputs": [
        {
          "output_type": "stream",
          "name": "stdout",
          "text": [
            "['dog', 'cat', 'dog', 'goldfish', 'cat', 'rabbit', 'cat']\n",
            "['cat', 'goldfish', 'cat', 'rabbit', 'cat']\n"
          ]
        }
      ]
    },
    {
      "cell_type": "code",
      "source": [
        "# Exercise 38: Filling a Dictionary with User Input\n",
        "\n",
        "# Define an empty library named responses\n",
        "responses= {}\n",
        "\n",
        "# Set a flag to indicate that polling is active.\n",
        "polling = True\n",
        "\n",
        "# Use a while loop\n",
        "while polling:\n",
        "    name = input(\"\\nWhat is your name?\")\n",
        "    response = input(\"Which mountain would you like to conquer in near future?\")\n",
        "\n",
        "    #Store these response in the library\n",
        "    #name here is the key, response here is the value in the library\n",
        "    responses[name] = response\n",
        "\n",
        "    #find out who else wanted to conquer a mountain\n",
        "    repeat = input(\"Would you like to invite your better half ro conquer together? (yes / no)\")\n",
        "    if repeat == 'no':\n",
        "        polling = False\n",
        "\n",
        "\n",
        "# Polling is complete. Show the results.\n",
        "print(\"\\n---Poll Results --\")\n",
        "for name, bukit in responses.items():\n",
        "    print(name + \"would like ro climb \" + bukit.title() + \".\")\n",
        "\n",
        "# Print out the final responses dictionary\n",
        "print(\"\\nThe latest responses library is like this: \")\n",
        "print(responses)"
      ],
      "metadata": {
        "colab": {
          "base_uri": "https://localhost:8080/"
        },
        "id": "FIW94g7ItOKk",
        "outputId": "547b507b-05ad-4109-97e1-c636126d3509"
      },
      "execution_count": 105,
      "outputs": [
        {
          "output_type": "stream",
          "name": "stdout",
          "text": [
            "\n",
            "What is your name?Maslina\n",
            "Which mountain would you like to conquer in near future?Kinabalu\n",
            "Would you like to invite your better half ro conquer together? (yes / no)yes\n",
            "\n",
            "What is your name?Suraya\n",
            "Which mountain would you like to conquer in near future?Broga\n",
            "Would you like to invite your better half ro conquer together? (yes / no)yes\n",
            "\n",
            "What is your name?Anis\n",
            "Which mountain would you like to conquer in near future?machu picchu\n",
            "Would you like to invite your better half ro conquer together? (yes / no)no\n",
            "\n",
            "---Poll Results --\n",
            "Maslinawould like ro climb Kinabalu.\n",
            "Surayawould like ro climb Broga.\n",
            "Aniswould like ro climb Machu Picchu.\n",
            "\n",
            "The latest responses library is like this: \n",
            "{'Maslina': 'Kinabalu', 'Suraya': 'Broga', 'Anis': 'machu picchu'}\n"
          ]
        }
      ]
    },
    {
      "cell_type": "code",
      "source": [
        "responses.items()"
      ],
      "metadata": {
        "colab": {
          "base_uri": "https://localhost:8080/"
        },
        "id": "En_azEQavU2T",
        "outputId": "5cfbdd10-b21b-49c7-c553-8ef333b53069"
      },
      "execution_count": 107,
      "outputs": [
        {
          "output_type": "execute_result",
          "data": {
            "text/plain": [
              "dict_items([('Maslina', 'Kinabalu'), ('Suraya', 'Broga'), ('Anis', 'machu picchu')])"
            ]
          },
          "metadata": {},
          "execution_count": 107
        }
      ]
    },
    {
      "cell_type": "code",
      "source": [
        "# HELP : How to get help on the function\n",
        "\n"
      ],
      "metadata": {
        "id": "Xkr_e--luAC4"
      },
      "execution_count": 109,
      "outputs": []
    },
    {
      "cell_type": "markdown",
      "source": [],
      "metadata": {
        "id": "ynhXLq9px6Oe"
      }
    },
    {
      "cell_type": "code",
      "source": [],
      "metadata": {
        "id": "PLONkylnxQnF"
      },
      "execution_count": null,
      "outputs": []
    }
  ]
}