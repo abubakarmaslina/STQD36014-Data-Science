{
  "nbformat": 4,
  "nbformat_minor": 0,
  "metadata": {
    "colab": {
      "provenance": [],
      "authorship_tag": "ABX9TyOi4lo+WlUeLnRC5dt3GWiB",
      "include_colab_link": true
    },
    "kernelspec": {
      "name": "python3",
      "display_name": "Python 3"
    },
    "language_info": {
      "name": "python"
    }
  },
  "cells": [
    {
      "cell_type": "markdown",
      "metadata": {
        "id": "view-in-github",
        "colab_type": "text"
      },
      "source": [
        "<a href=\"https://colab.research.google.com/github/abubakarmaslina/STQD36014-Data-Science/blob/main/Maslina_Assignment_1_STQD6014.ipynb\" target=\"_parent\"><img src=\"https://colab.research.google.com/assets/colab-badge.svg\" alt=\"Open In Colab\"/></a>"
      ]
    },
    {
      "cell_type": "markdown",
      "source": [
        "Maslina_Assignment_1_STQD6014"
      ],
      "metadata": {
        "id": "UgndDzUCyIhd"
      }
    },
    {
      "cell_type": "code",
      "source": [
        "# to manage student names and their exam scores\n",
        "# minimum of three different subjects\n",
        "\n",
        "#1. Calculate and display the average score for each student.\n",
        "\n",
        "responses= {}\n",
        "\n",
        "polling = True\n",
        "\n",
        "while polling:\n",
        "    name = input(\"\\nWhat is your name? \")\n",
        "    subjects = ('Mathematic', 'English', 'Science', 'History','Bahasa')\n",
        "    print(\"Enter Marks Obtained in 5 Subjects: \")\n",
        "    Mathematic = int(input('Mathematic: '))\n",
        "    English = int(input('English: '))\n",
        "    Science = int(input('Science: '))\n",
        "    History = int(input('History: '))\n",
        "    Bahasa = int(input('Bahasa: '))\n",
        "\n",
        "    subjects = (Mathematic, English, Science, History, Bahasa,)\n",
        "    avg = sum(subjects)/len(subjects)\n",
        "\n",
        "    if avg>=91 and avg<=100:\n",
        "        print(\"Your Grade is A\")\n",
        "    elif avg>=81 and avg<91:\n",
        "        print(\"Your Grade is B\")\n",
        "    elif avg>=71 and avg<81:\n",
        "        print(\"Your Grade is C\")\n",
        "    elif avg>=61 and avg<71:\n",
        "        print(\"Your Grade is D\")\n",
        "    else:\n",
        "        print(\"Please retake the paper\")\n",
        "\n",
        "    responses[name] = avg\n",
        "\n",
        "    repeat = input(\"\\nDo you want to store your exam results? (yes/ no)\")\n",
        "    if repeat == 'no':\n",
        "        polling = False\n",
        "\n",
        "print(\"\\n--- Average Scores for Each Student --\")\n",
        "for name, avg2 in responses.items():\n",
        "    print(name + \"'s exam average scores are: \" + str(avg2) + \".\")\n",
        "print(\"\\nThe latest responses library is like this: \")\n",
        "print(responses)"
      ],
      "metadata": {
        "colab": {
          "base_uri": "https://localhost:8080/"
        },
        "id": "xWqw8GlSg6gx",
        "outputId": "d9a95b3c-67bf-40fd-beed-99c98fc76732"
      },
      "execution_count": 53,
      "outputs": [
        {
          "output_type": "stream",
          "name": "stdout",
          "text": [
            "\n",
            "What is your name? Maslina\n",
            "Enter Marks Obtained in 5 Subjects: \n",
            "Mathematic: 100\n",
            "English: 100\n",
            "Science: 95\n",
            "History: 85\n",
            "Bahasa: 99\n",
            "Your Grade is A\n",
            "\n",
            "Do you want to store your exam results? (yes/ no)yes\n",
            "\n",
            "What is your name? Murali\n",
            "Enter Marks Obtained in 5 Subjects: \n",
            "Mathematic: 85\n",
            "English: 100\n",
            "Science: 99\n",
            "History: 70\n",
            "Bahasa: 100\n",
            "Your Grade is B\n",
            "\n",
            "Do you want to store your exam results? (yes/ no)yes\n",
            "\n",
            "What is your name? Edward\n",
            "Enter Marks Obtained in 5 Subjects: \n",
            "Mathematic: 100\n",
            "English: 85\n",
            "Science: 50\n",
            "History: 50\n",
            "Bahasa: 50\n",
            "Your Grade is D\n",
            "\n",
            "Do you want to store your exam results? (yes/ no)yes\n",
            "\n",
            "What is your name? Sofia\n",
            "Enter Marks Obtained in 5 Subjects: \n",
            "Mathematic: 50\n",
            "English: 50\n",
            "Science: 50\n",
            "History: 40\n",
            "Bahasa: 50\n",
            "Please retake the paper\n",
            "\n",
            "Do you want to store your exam results? (yes/ no)no\n",
            "\n",
            "---Poll Results --\n",
            "Maslina's exam average scores are: 95.8.\n",
            "Murali's exam average scores are: 90.8.\n",
            "Edward's exam average scores are: 67.0.\n",
            "Sofia's exam average scores are: 48.0.\n",
            "\n",
            "The latest responses library is like this: \n",
            "{'Maslina': 95.8, 'Murali': 90.8, 'Edward': 67.0, 'Sofia': 48.0}\n"
          ]
        }
      ]
    },
    {
      "cell_type": "code",
      "source": [
        "#2. Identify the students with the highest and lowest scores.\n",
        "\n",
        "responses.items()"
      ],
      "metadata": {
        "colab": {
          "base_uri": "https://localhost:8080/"
        },
        "id": "_QiOiflqorDO",
        "outputId": "e78eafa0-b767-454e-9f24-80e169e3fe75"
      },
      "execution_count": 61,
      "outputs": [
        {
          "output_type": "execute_result",
          "data": {
            "text/plain": [
              "dict_items([('Maslina', 95.8), ('Murali', 90.8), ('Edward', 67.0), ('Sofia', 48.0)])"
            ]
          },
          "metadata": {},
          "execution_count": 61
        }
      ]
    },
    {
      "cell_type": "code",
      "source": [],
      "metadata": {
        "id": "ZHPGkNNyxyY3"
      },
      "execution_count": null,
      "outputs": []
    }
  ]
}