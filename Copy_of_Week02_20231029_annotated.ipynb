{
  "nbformat": 4,
  "nbformat_minor": 0,
  "metadata": {
    "colab": {
      "provenance": [],
      "include_colab_link": true
    },
    "kernelspec": {
      "name": "python3",
      "display_name": "Python 3"
    },
    "language_info": {
      "name": "python"
    }
  },
  "cells": [
    {
      "cell_type": "markdown",
      "metadata": {
        "id": "view-in-github",
        "colab_type": "text"
      },
      "source": [
        "<a href=\"https://colab.research.google.com/github/abubakarmaslina/STQD36014-Data-Science/blob/main/Copy_of_Week02_20231029_annotated.ipynb\" target=\"_parent\"><img src=\"https://colab.research.google.com/assets/colab-badge.svg\" alt=\"Open In Colab\"/></a>"
      ]
    },
    {
      "cell_type": "markdown",
      "source": [
        "# **Week02: Python Basic**"
      ],
      "metadata": {
        "id": "AUNwPwpDz7og"
      }
    },
    {
      "cell_type": "markdown",
      "source": [
        "# **Maslina Abu Bakar**"
      ],
      "metadata": {
        "id": "dFqUyIvMEqK8"
      }
    },
    {
      "cell_type": "code",
      "source": [
        "3+5"
      ],
      "metadata": {
        "colab": {
          "base_uri": "https://localhost:8080/"
        },
        "id": "88yom7UGFMqD",
        "outputId": "725e85c3-512d-418c-921c-e3afab41c045"
      },
      "execution_count": null,
      "outputs": [
        {
          "output_type": "execute_result",
          "data": {
            "text/plain": [
              "8"
            ]
          },
          "metadata": {},
          "execution_count": 1
        }
      ]
    },
    {
      "cell_type": "code",
      "source": [
        "# Print the message\n",
        "#single qoute\n",
        "print(\"Hello everyone!\")"
      ],
      "metadata": {
        "colab": {
          "base_uri": "https://localhost:8080/"
        },
        "id": "7i8rgWRfviZk",
        "outputId": "467346d5-6776-43b2-d369-2fc0b710442a"
      },
      "execution_count": null,
      "outputs": [
        {
          "output_type": "stream",
          "name": "stdout",
          "text": [
            "Hello everyone!\n"
          ]
        }
      ]
    },
    {
      "cell_type": "code",
      "source": [
        "# Range of 10\n",
        "x = range(10)\n",
        "\n",
        "# print out x\n",
        "print(x)\n",
        "\n",
        "# for loop\n",
        "# mind the syntax -> space of four for subsequent line\n",
        "for value in x:\n",
        "    print(value ** 2)\n",
        "\n",
        "\n"
      ],
      "metadata": {
        "colab": {
          "base_uri": "https://localhost:8080/"
        },
        "id": "LF_lfXyOvyDm",
        "outputId": "84b38fdc-2cc7-47d8-a33b-5cca3b290d31"
      },
      "execution_count": null,
      "outputs": [
        {
          "output_type": "stream",
          "name": "stdout",
          "text": [
            "range(0, 10)\n",
            "0\n",
            "1\n",
            "4\n",
            "9\n",
            "16\n",
            "25\n",
            "36\n",
            "49\n",
            "64\n",
            "81\n"
          ]
        }
      ]
    },
    {
      "cell_type": "code",
      "source": [
        "# for loop\n",
        "# mind the syntax -> space of four for subsequent line\n",
        "for i in x:\n",
        "    print(i ** 5)\n"
      ],
      "metadata": {
        "colab": {
          "base_uri": "https://localhost:8080/"
        },
        "id": "ayQSj8bVLvhY",
        "outputId": "f5736bab-c962-4ce4-df2a-550c63a58a1b"
      },
      "execution_count": null,
      "outputs": [
        {
          "output_type": "stream",
          "name": "stdout",
          "text": [
            "0\n",
            "1\n",
            "32\n",
            "243\n",
            "1024\n",
            "3125\n",
            "7776\n",
            "16807\n",
            "32768\n",
            "59049\n"
          ]
        }
      ]
    },
    {
      "cell_type": "code",
      "source": [],
      "metadata": {
        "id": "vtsJmsBMMdz6"
      },
      "execution_count": null,
      "outputs": []
    },
    {
      "cell_type": "markdown",
      "source": [
        "# **Exercise 1: Multiplication**\n",
        "Suppose you have RM100, which you can invest with a 10% return each year. After one year, it's 100×1.1=110 dollars, and after two years it's 100×1.1×1.1=121.\n",
        "\n",
        "* Write a code to calculate how much money you end up with after 7 years\n",
        "* print the result."
      ],
      "metadata": {
        "id": "L0C6r4C4xqKo"
      }
    },
    {
      "cell_type": "code",
      "execution_count": null,
      "metadata": {
        "colab": {
          "base_uri": "https://localhost:8080/"
        },
        "id": "INCbp6Z-z6_2",
        "outputId": "712c0aa0-c601-4424-e2a0-927439afbcba"
      },
      "outputs": [
        {
          "output_type": "stream",
          "name": "stdout",
          "text": [
            "range(0, 8)\n",
            "100.0\n",
            "110.00000000000001\n",
            "121.00000000000001\n",
            "133.10000000000005\n",
            "146.41000000000005\n",
            "161.05100000000004\n",
            "177.1561000000001\n",
            "194.87171000000012\n"
          ]
        }
      ],
      "source": [
        "# How much is our $100 worth after 7 years?\n",
        "\n",
        "# Defining y\n",
        "y = range(8)\n",
        "\n",
        "# print out y\n",
        "print(y)\n",
        "\n",
        "# for loop\n",
        "# mind the syntax -> space of four for subsequent line\n",
        "for value in y:\n",
        "    print(100*(1.1**value))"
      ]
    },
    {
      "cell_type": "code",
      "source": [
        "# Defining y\n",
        "print(100*1.1**7)"
      ],
      "metadata": {
        "colab": {
          "base_uri": "https://localhost:8080/"
        },
        "id": "pOlzZtvPN288",
        "outputId": "7434cca0-c290-461f-c64e-9aa0ed723275"
      },
      "execution_count": null,
      "outputs": [
        {
          "output_type": "stream",
          "name": "stdout",
          "text": [
            "194.87171000000012\n"
          ]
        }
      ]
    },
    {
      "cell_type": "markdown",
      "source": [
        "# **BMI calculation**"
      ],
      "metadata": {
        "id": "4TJ-UCJyzxcb"
      }
    },
    {
      "cell_type": "code",
      "source": [
        "# Information of height and weight\n",
        "height = 1.75\n",
        "#weight = 67.3\n",
        "weight = 74.7\n",
        "\n",
        "# BMI calculation\n",
        "BMI = weight / (height **2)\n",
        "\n",
        "# BMI value\n",
        "print(BMI)\n",
        "\n",
        "#Don't use print\n",
        "BMI\n",
        "\n",
        "# What is the new BMI if now the weight is 74.7?\n"
      ],
      "metadata": {
        "colab": {
          "base_uri": "https://localhost:8080/"
        },
        "id": "1dbiBsR2y9Gj",
        "outputId": "29bba2c2-c100-40ab-d5d1-e13e56b6b631"
      },
      "execution_count": null,
      "outputs": [
        {
          "output_type": "stream",
          "name": "stdout",
          "text": [
            "24.39183673469388\n"
          ]
        },
        {
          "output_type": "execute_result",
          "data": {
            "text/plain": [
              "24.39183673469388"
            ]
          },
          "metadata": {},
          "execution_count": 10
        }
      ]
    },
    {
      "cell_type": "markdown",
      "source": [
        "# **Different Python type**"
      ],
      "metadata": {
        "id": "34r0KkGYsszO"
      }
    },
    {
      "cell_type": "code",
      "source": [
        "# float type\n",
        "type(BMI)"
      ],
      "metadata": {
        "colab": {
          "base_uri": "https://localhost:8080/"
        },
        "id": "myllmSRBsvIK",
        "outputId": "c13115ba-9e48-4cf0-a007-e8bee54fa9cd"
      },
      "execution_count": null,
      "outputs": [
        {
          "output_type": "execute_result",
          "data": {
            "text/plain": [
              "float"
            ]
          },
          "metadata": {},
          "execution_count": 11
        }
      ]
    },
    {
      "cell_type": "code",
      "source": [
        "# integer type\n",
        "day_of_week = 7\n",
        "type(day_of_week)"
      ],
      "metadata": {
        "colab": {
          "base_uri": "https://localhost:8080/"
        },
        "id": "Jv-Mg3MutSL2",
        "outputId": "8fe5b8ac-540e-4b14-c14a-eeeab86474e8"
      },
      "execution_count": null,
      "outputs": [
        {
          "output_type": "execute_result",
          "data": {
            "text/plain": [
              "int"
            ]
          },
          "metadata": {},
          "execution_count": 12
        }
      ]
    },
    {
      "cell_type": "code",
      "source": [
        "# string type\n",
        "# only the last output of the last data type\n",
        "x ='body mass index'\n",
        "y = 'stqd6014'\n",
        "type(x)\n",
        "type(y)"
      ],
      "metadata": {
        "colab": {
          "base_uri": "https://localhost:8080/"
        },
        "id": "tSpPjy9ktUEs",
        "outputId": "9f70f561-740a-4eb8-b6b7-01de57f1a5d0"
      },
      "execution_count": null,
      "outputs": [
        {
          "output_type": "execute_result",
          "data": {
            "text/plain": [
              "str"
            ]
          },
          "metadata": {},
          "execution_count": 13
        }
      ]
    },
    {
      "cell_type": "code",
      "source": [
        "# string type\n",
        "# this one output both data type\n",
        "x ='body mass index'\n",
        "y = 'stqd6014'\n",
        "print(type(x))\n",
        "print(type(y))"
      ],
      "metadata": {
        "colab": {
          "base_uri": "https://localhost:8080/"
        },
        "id": "GCd1ydJTQJ_1",
        "outputId": "fd8f5b71-1b5e-4d85-acbe-f87e99ba2229"
      },
      "execution_count": null,
      "outputs": [
        {
          "output_type": "stream",
          "name": "stdout",
          "text": [
            "<class 'str'>\n",
            "<class 'str'>\n"
          ]
        }
      ]
    },
    {
      "cell_type": "code",
      "source": [
        "# string type\n",
        "x = 89\n",
        "y = 'stqd6014'\n",
        "print(type(x))\n",
        "print(type(y))"
      ],
      "metadata": {
        "colab": {
          "base_uri": "https://localhost:8080/"
        },
        "id": "-62OG2PFQaLg",
        "outputId": "c728aeba-9efd-409c-ed08-b66d1ab0e670"
      },
      "execution_count": null,
      "outputs": [
        {
          "output_type": "stream",
          "name": "stdout",
          "text": [
            "<class 'int'>\n",
            "<class 'str'>\n"
          ]
        }
      ]
    },
    {
      "cell_type": "code",
      "source": [
        "# boolean type\n",
        "print(type(True))\n",
        "print(type(False))"
      ],
      "metadata": {
        "colab": {
          "base_uri": "https://localhost:8080/"
        },
        "id": "v2oMvX4WtWkW",
        "outputId": "793f1dd9-8e34-4c14-9a92-e5de3413f5dc"
      },
      "execution_count": null,
      "outputs": [
        {
          "output_type": "stream",
          "name": "stdout",
          "text": [
            "<class 'bool'>\n",
            "<class 'bool'>\n"
          ]
        }
      ]
    },
    {
      "cell_type": "markdown",
      "source": [
        "# **Different Python Data type = Different Behaviour**"
      ],
      "metadata": {
        "id": "9cOD3Xvlt8Iv"
      }
    },
    {
      "cell_type": "code",
      "source": [
        "# Summation of numbers\n",
        "2+3"
      ],
      "metadata": {
        "colab": {
          "base_uri": "https://localhost:8080/"
        },
        "id": "SqxO6MmquBpF",
        "outputId": "5b246766-24cc-4f8a-d77a-e25ccb8ad0e9"
      },
      "execution_count": null,
      "outputs": [
        {
          "output_type": "execute_result",
          "data": {
            "text/plain": [
              "5"
            ]
          },
          "metadata": {},
          "execution_count": 17
        }
      ]
    },
    {
      "cell_type": "code",
      "source": [
        "# Summation of strings\n",
        "'ab' + 'cde'"
      ],
      "metadata": {
        "colab": {
          "base_uri": "https://localhost:8080/",
          "height": 36
        },
        "id": "X0fj-mtJuHM3",
        "outputId": "380d0caf-3d16-409c-e03d-b8b6617bff23"
      },
      "execution_count": null,
      "outputs": [
        {
          "output_type": "execute_result",
          "data": {
            "text/plain": [
              "'abcde'"
            ],
            "application/vnd.google.colaboratory.intrinsic+json": {
              "type": "string"
            }
          },
          "metadata": {},
          "execution_count": 18
        }
      ]
    },
    {
      "cell_type": "markdown",
      "source": [
        "# **Exercise 2: Python as calculator**"
      ],
      "metadata": {
        "id": "hWlzJvaYukB2"
      }
    },
    {
      "cell_type": "code",
      "source": [
        "# Create a variable savings\n",
        "savings = 100\n",
        "\n",
        "# Create a variable growth_multiplier\n",
        "growth_multiplier = 1.1\n",
        "\n",
        "# Calculate result\n",
        "result = savings * growth_multiplier ** 7\n",
        "\n",
        "# Print out result\n",
        "result"
      ],
      "metadata": {
        "colab": {
          "base_uri": "https://localhost:8080/"
        },
        "id": "w-GAcf_v6H6I",
        "outputId": "32ec8ef9-8d34-48ae-a46c-91d5c3d137ea"
      },
      "execution_count": 20,
      "outputs": [
        {
          "output_type": "execute_result",
          "data": {
            "text/plain": [
              "194.87171000000012"
            ]
          },
          "metadata": {},
          "execution_count": 20
        }
      ]
    },
    {
      "cell_type": "markdown",
      "source": [
        "# **Exercise 3: String and boolean**"
      ],
      "metadata": {
        "id": "OBx7GpTuvhY6"
      }
    },
    {
      "cell_type": "code",
      "source": [
        "# Create a variable desc\n",
        "desc = \"compound interest\"\n",
        "\n",
        "# Data type for desc\n",
        "type(desc)"
      ],
      "metadata": {
        "id": "I1rFMEEi6pgC",
        "colab": {
          "base_uri": "https://localhost:8080/"
        },
        "outputId": "97615419-3c91-44dc-b174-7a6c0310afcd"
      },
      "execution_count": 21,
      "outputs": [
        {
          "output_type": "execute_result",
          "data": {
            "text/plain": [
              "str"
            ]
          },
          "metadata": {},
          "execution_count": 21
        }
      ]
    },
    {
      "cell_type": "code",
      "source": [
        "# Create a variable profitable\n",
        "profitable = True\n",
        "\n",
        "# Data type of profitable\n",
        "type(profitable)"
      ],
      "metadata": {
        "colab": {
          "base_uri": "https://localhost:8080/"
        },
        "id": "mVodND3qwJn7",
        "outputId": "f0617aac-f6d7-4146-bdb0-ae17a3c51769"
      },
      "execution_count": 22,
      "outputs": [
        {
          "output_type": "execute_result",
          "data": {
            "text/plain": [
              "bool"
            ]
          },
          "metadata": {},
          "execution_count": 22
        }
      ]
    },
    {
      "cell_type": "markdown",
      "source": [
        "# **Exercise 4: Python data type**"
      ],
      "metadata": {
        "id": "hRuYlyURwdms"
      }
    },
    {
      "cell_type": "code",
      "source": [
        "# Given the following data\n",
        "a = 194.87171000000012\n",
        "b = 'true'\n",
        "c = False"
      ],
      "metadata": {
        "id": "TfOWY8g567KL"
      },
      "execution_count": 25,
      "outputs": []
    },
    {
      "cell_type": "code",
      "source": [
        "# Data type for variable a\n",
        "type(a)"
      ],
      "metadata": {
        "colab": {
          "base_uri": "https://localhost:8080/"
        },
        "id": "cBwPvgh7xxF8",
        "outputId": "e610572b-a386-483a-9ca9-54094d03ad0c"
      },
      "execution_count": 26,
      "outputs": [
        {
          "output_type": "execute_result",
          "data": {
            "text/plain": [
              "float"
            ]
          },
          "metadata": {},
          "execution_count": 26
        }
      ]
    },
    {
      "cell_type": "code",
      "source": [
        "# Data type for variable b\n",
        "type(b)"
      ],
      "metadata": {
        "colab": {
          "base_uri": "https://localhost:8080/"
        },
        "id": "suHPnAE4wrxl",
        "outputId": "b3159423-6cca-4362-e1b8-174978c3a88f"
      },
      "execution_count": 27,
      "outputs": [
        {
          "output_type": "execute_result",
          "data": {
            "text/plain": [
              "str"
            ]
          },
          "metadata": {},
          "execution_count": 27
        }
      ]
    },
    {
      "cell_type": "code",
      "source": [
        "# Data type for variable c\n",
        "type(c)"
      ],
      "metadata": {
        "colab": {
          "base_uri": "https://localhost:8080/"
        },
        "id": "WysFvXkowvQu",
        "outputId": "a65307a8-b8ac-45eb-abbf-eddb3dc2d321"
      },
      "execution_count": 28,
      "outputs": [
        {
          "output_type": "execute_result",
          "data": {
            "text/plain": [
              "bool"
            ]
          },
          "metadata": {},
          "execution_count": 28
        }
      ]
    },
    {
      "cell_type": "markdown",
      "source": [
        "# **Exercise 5: Python as arithmetic operator**"
      ],
      "metadata": {
        "id": "ucjRAAn9w27G"
      }
    },
    {
      "cell_type": "code",
      "source": [
        "# Given the following data\n",
        "savings = 100\n",
        "growth_multiplier = 1.1"
      ],
      "metadata": {
        "id": "5J_PB7rM7l8H"
      },
      "execution_count": 30,
      "outputs": []
    },
    {
      "cell_type": "code",
      "source": [
        "# Assign product of savings and growth_multiplier to year1\n",
        "result = savings * growth_multiplier\n",
        "result"
      ],
      "metadata": {
        "id": "W_ZHcg6cxyAl",
        "colab": {
          "base_uri": "https://localhost:8080/"
        },
        "outputId": "2614b962-8507-4c6d-96ff-59e3ede5ec09"
      },
      "execution_count": 33,
      "outputs": [
        {
          "output_type": "execute_result",
          "data": {
            "text/plain": [
              "110.00000000000001"
            ]
          },
          "metadata": {},
          "execution_count": 33
        }
      ]
    },
    {
      "cell_type": "code",
      "source": [
        "# print out type of year1\n",
        "print(type(result))"
      ],
      "metadata": {
        "colab": {
          "base_uri": "https://localhost:8080/"
        },
        "id": "OjAYLejExcPp",
        "outputId": "d93154f4-6757-443e-aecb-55630c9d02e5"
      },
      "execution_count": 34,
      "outputs": [
        {
          "output_type": "stream",
          "name": "stdout",
          "text": [
            "<class 'float'>\n"
          ]
        }
      ]
    },
    {
      "cell_type": "code",
      "source": [
        "# Assign sum of desc and desc to doubledesc\n",
        "# Given desc = \"compound interest\"\n",
        "\n",
        "doubledesc = desc + desc"
      ],
      "metadata": {
        "id": "hshX4ruBxt9N"
      },
      "execution_count": 37,
      "outputs": []
    },
    {
      "cell_type": "code",
      "source": [
        "# Print doubledesc\n",
        "doubledesc"
      ],
      "metadata": {
        "colab": {
          "base_uri": "https://localhost:8080/",
          "height": 36
        },
        "id": "7nzg-T06x9Uk",
        "outputId": "e76b2deb-c377-4b6c-bcc0-db415a9f1069"
      },
      "execution_count": 38,
      "outputs": [
        {
          "output_type": "execute_result",
          "data": {
            "text/plain": [
              "'compound interestcompound interest'"
            ],
            "application/vnd.google.colaboratory.intrinsic+json": {
              "type": "string"
            }
          },
          "metadata": {},
          "execution_count": 38
        }
      ]
    },
    {
      "cell_type": "markdown",
      "source": [
        "# **Exercise 6: Debugging the code**\n",
        "The following code has error message.\n",
        "Please fix it!\n"
      ],
      "metadata": {
        "id": "n4PaBCIOy0Sq"
      }
    },
    {
      "cell_type": "code",
      "source": [
        "# Definition of savings and result\n",
        "savings = 100\n",
        "result = 100 * 1.10 ** 7\n",
        "\n",
        "# Print out the message\n",
        "print(\"I started with $\" + (savings) + \" and now have $\" + result + \". Awesome!\")\n",
        "\n",
        "# Definition of pi_string\n",
        "pi_string = \"3.1415926\"\n",
        "\n",
        "# Convert pi_string into float: pi_float\n",
        "float(pi_string)"
      ],
      "metadata": {
        "colab": {
          "base_uri": "https://localhost:8080/",
          "height": 246
        },
        "id": "E59lPRrvz_fz",
        "outputId": "c4b59115-2111-47ac-f056-84c3de33c6ed"
      },
      "execution_count": null,
      "outputs": [
        {
          "output_type": "error",
          "ename": "TypeError",
          "evalue": "ignored",
          "traceback": [
            "\u001b[0;31m---------------------------------------------------------------------------\u001b[0m",
            "\u001b[0;31mTypeError\u001b[0m                                 Traceback (most recent call last)",
            "\u001b[0;32m<ipython-input-57-b83e057d3977>\u001b[0m in \u001b[0;36m<cell line: 6>\u001b[0;34m()\u001b[0m\n\u001b[1;32m      4\u001b[0m \u001b[0;34m\u001b[0m\u001b[0m\n\u001b[1;32m      5\u001b[0m \u001b[0;31m# Print out the message\u001b[0m\u001b[0;34m\u001b[0m\u001b[0;34m\u001b[0m\u001b[0m\n\u001b[0;32m----> 6\u001b[0;31m \u001b[0mprint\u001b[0m\u001b[0;34m(\u001b[0m\u001b[0;34m\"I started with $\"\u001b[0m \u001b[0;34m+\u001b[0m \u001b[0;34m(\u001b[0m\u001b[0msavings\u001b[0m\u001b[0;34m)\u001b[0m \u001b[0;34m+\u001b[0m \u001b[0;34m\" and now have $\"\u001b[0m \u001b[0;34m+\u001b[0m \u001b[0mresult\u001b[0m \u001b[0;34m+\u001b[0m \u001b[0;34m\". Awesome!\"\u001b[0m\u001b[0;34m)\u001b[0m\u001b[0;34m\u001b[0m\u001b[0;34m\u001b[0m\u001b[0m\n\u001b[0m\u001b[1;32m      7\u001b[0m \u001b[0;34m\u001b[0m\u001b[0m\n\u001b[1;32m      8\u001b[0m \u001b[0;31m# Definition of pi_string\u001b[0m\u001b[0;34m\u001b[0m\u001b[0;34m\u001b[0m\u001b[0m\n",
            "\u001b[0;31mTypeError\u001b[0m: can only concatenate str (not \"int\") to str"
          ]
        }
      ]
    },
    {
      "cell_type": "markdown",
      "source": [
        "#### **Fixing in ACTION!!!**"
      ],
      "metadata": {
        "id": "SawYUYgw0PBg"
      }
    },
    {
      "cell_type": "code",
      "source": [
        "# Definition of savings and result\n",
        "result = 100 * 1.10 ** 7\n",
        "\n",
        "# Fix the print out\n",
        "print(\"I started with $\" + str(savings) + \" and now have $\" + str(result) + \". Awesome!\")\n",
        "\n",
        "# Definition of pi_string\n",
        "pi_string = \"3.1415926\"\n",
        "\n",
        "# Convert pi_string into float: pi_float\n",
        "pi_float = float(pi_string)"
      ],
      "metadata": {
        "colab": {
          "base_uri": "https://localhost:8080/"
        },
        "id": "C3Tja5SI7xGm",
        "outputId": "98f998d5-bbe7-4525-a96f-85015306acb7"
      },
      "execution_count": 42,
      "outputs": [
        {
          "output_type": "stream",
          "name": "stdout",
          "text": [
            "I started with $100 and now have $194.87171000000012. Awesome!\n"
          ]
        }
      ]
    },
    {
      "cell_type": "markdown",
      "source": [
        "# **Which one of these will throw an error?**"
      ],
      "metadata": {
        "id": "bdzjq10g1FKA"
      }
    },
    {
      "cell_type": "code",
      "source": [
        "# Summation of string\n",
        "\"I can add integers, like \"+ str(5)+\" to strings\""
      ],
      "metadata": {
        "colab": {
          "base_uri": "https://localhost:8080/",
          "height": 36
        },
        "id": "bDcOxdjy1HKv",
        "outputId": "5eb2fd56-400c-4690-c097-88f3b181aeab"
      },
      "execution_count": 46,
      "outputs": [
        {
          "output_type": "execute_result",
          "data": {
            "text/plain": [
              "'I can add integers, like 5 to strings'"
            ],
            "application/vnd.google.colaboratory.intrinsic+json": {
              "type": "string"
            }
          },
          "metadata": {},
          "execution_count": 46
        }
      ]
    },
    {
      "cell_type": "code",
      "source": [
        "# Multiplication of string)\n",
        "\"I said \" + (\"Hey \" * 2) + \"Hey!\""
      ],
      "metadata": {
        "colab": {
          "base_uri": "https://localhost:8080/",
          "height": 36
        },
        "id": "PRMQpmEn1LQ7",
        "outputId": "f54c569e-af7a-4a70-ecee-e2cdf0739511"
      },
      "execution_count": 44,
      "outputs": [
        {
          "output_type": "execute_result",
          "data": {
            "text/plain": [
              "'I said Hey Hey Hey!'"
            ],
            "application/vnd.google.colaboratory.intrinsic+json": {
              "type": "string"
            }
          },
          "metadata": {},
          "execution_count": 44
        }
      ]
    },
    {
      "cell_type": "code",
      "source": [
        "# This one has an error\n"
      ],
      "metadata": {
        "colab": {
          "base_uri": "https://localhost:8080/",
          "height": 194
        },
        "id": "aLogRkoe1O8E",
        "outputId": "5a126706-b4eb-41b9-cbda-853ea310e00d"
      },
      "execution_count": null,
      "outputs": [
        {
          "output_type": "error",
          "ename": "TypeError",
          "evalue": "ignored",
          "traceback": [
            "\u001b[0;31m---------------------------------------------------------------------------\u001b[0m",
            "\u001b[0;31mTypeError\u001b[0m                                 Traceback (most recent call last)",
            "\u001b[0;32m<ipython-input-63-adadfbd9791b>\u001b[0m in \u001b[0;36m<cell line: 2>\u001b[0;34m()\u001b[0m\n\u001b[1;32m      1\u001b[0m \u001b[0;31m# This one has an error\u001b[0m\u001b[0;34m\u001b[0m\u001b[0;34m\u001b[0m\u001b[0m\n\u001b[0;32m----> 2\u001b[0;31m \u001b[0;34m\"The correct answer to this multiple choice exercise is answer number \"\u001b[0m\u001b[0;34m+\u001b[0m\u001b[0;36m2\u001b[0m\u001b[0;34m\u001b[0m\u001b[0;34m\u001b[0m\u001b[0m\n\u001b[0m",
            "\u001b[0;31mTypeError\u001b[0m: can only concatenate str (not \"int\") to str"
          ]
        }
      ]
    },
    {
      "cell_type": "code",
      "source": [
        "# We can fix it\n",
        "# We can run python code in multiple line (in continuation) using the backslash \\\n",
        "\"The correct answer to this multiple choice exercise is answer number \" + \\\n",
        "str(2)"
      ],
      "metadata": {
        "colab": {
          "base_uri": "https://localhost:8080/",
          "height": 36
        },
        "id": "zJAQEw1d1jbB",
        "outputId": "5dc53fea-d0e8-43d1-9806-e5d34bdc87d5"
      },
      "execution_count": 52,
      "outputs": [
        {
          "output_type": "execute_result",
          "data": {
            "text/plain": [
              "'The correct answer to this multiple choice exercise is answer number 2'"
            ],
            "application/vnd.google.colaboratory.intrinsic+json": {
              "type": "string"
            }
          },
          "metadata": {},
          "execution_count": 52
        }
      ]
    },
    {
      "cell_type": "code",
      "source": [
        "# True = 1 and False = 0\n",
        "True + False"
      ],
      "metadata": {
        "colab": {
          "base_uri": "https://localhost:8080/"
        },
        "id": "jjVdRlUw1Tjp",
        "outputId": "bd5ca5c2-21d4-459f-f866-a9bbc4aa26fa"
      },
      "execution_count": 49,
      "outputs": [
        {
          "output_type": "execute_result",
          "data": {
            "text/plain": [
              "1"
            ]
          },
          "metadata": {},
          "execution_count": 49
        }
      ]
    },
    {
      "cell_type": "markdown",
      "source": [
        "# **Python Lists**\n",
        "A list in a square bracket, [ ]"
      ],
      "metadata": {
        "id": "w8F8ngzf4jff"
      }
    },
    {
      "cell_type": "code",
      "source": [
        "# Different data type in a list\n",
        "fam = ['Liz', 1.73, 'emma', 1.68, 'mom', 1.71, 'dad', 1.89]\n",
        "type(fam)"
      ],
      "metadata": {
        "colab": {
          "base_uri": "https://localhost:8080/"
        },
        "id": "x0BnV6lk4oGy",
        "outputId": "bf7fad60-7c4a-4ace-e2b6-595d5a0b65b9"
      },
      "execution_count": 54,
      "outputs": [
        {
          "output_type": "execute_result",
          "data": {
            "text/plain": [
              "list"
            ]
          },
          "metadata": {},
          "execution_count": 54
        }
      ]
    },
    {
      "cell_type": "code",
      "source": [
        "# indexing\n",
        "fam[3]"
      ],
      "metadata": {
        "colab": {
          "base_uri": "https://localhost:8080/"
        },
        "id": "NHf083o2YjW3",
        "outputId": "ef39331c-ed03-4d77-ae63-12eeb3065332"
      },
      "execution_count": 56,
      "outputs": [
        {
          "output_type": "execute_result",
          "data": {
            "text/plain": [
              "1.68"
            ]
          },
          "metadata": {},
          "execution_count": 56
        }
      ]
    },
    {
      "cell_type": "code",
      "source": [
        "# A list in a list\n",
        "fam2 = [['liz', 1.73],\n",
        "        ['emma', 1.68],\n",
        "        ['mom', 1.71],\n",
        "        ['dad', 1.89]]\n",
        "type(fam2)"
      ],
      "metadata": {
        "colab": {
          "base_uri": "https://localhost:8080/"
        },
        "id": "lfqoEH6Y48MO",
        "outputId": "0291d7c6-d2e7-40d9-ad65-5ef9eea735be"
      },
      "execution_count": 55,
      "outputs": [
        {
          "output_type": "execute_result",
          "data": {
            "text/plain": [
              "list"
            ]
          },
          "metadata": {},
          "execution_count": 55
        }
      ]
    },
    {
      "cell_type": "code",
      "source": [
        "# indexing as well but with different output\n",
        "fam2[3]"
      ],
      "metadata": {
        "colab": {
          "base_uri": "https://localhost:8080/"
        },
        "id": "QkLXKjLWYzKB",
        "outputId": "5df2e7c7-d03f-4d4a-f4aa-270a5d974103"
      },
      "execution_count": 57,
      "outputs": [
        {
          "output_type": "execute_result",
          "data": {
            "text/plain": [
              "['dad', 1.89]"
            ]
          },
          "metadata": {},
          "execution_count": 57
        }
      ]
    },
    {
      "cell_type": "markdown",
      "source": [
        "# **Exercise 7: Creating a list**"
      ],
      "metadata": {
        "id": "A1KHnXe306Lb"
      }
    },
    {
      "cell_type": "code",
      "source": [
        "# Area variables (in square meters)\n",
        "hall = 11.25\n",
        "kit = 18.0\n",
        "liv = 20.0\n",
        "bed = 10.75\n",
        "bath = 9.50\n",
        "\n",
        "# Create list areas\n",
        "areas = [hall, kit, liv, bed, bath]\n",
        "\n",
        "# Print areas\n",
        "print(areas)"
      ],
      "metadata": {
        "colab": {
          "base_uri": "https://localhost:8080/"
        },
        "id": "LDneWQpdDy9V",
        "outputId": "0a491ba8-7007-43b1-8675-7c39cba44c37"
      },
      "execution_count": 60,
      "outputs": [
        {
          "output_type": "stream",
          "name": "stdout",
          "text": [
            "[11.25, 18.0, 20.0, 10.75, 9.5]\n"
          ]
        }
      ]
    },
    {
      "cell_type": "markdown",
      "source": [
        "# **Exercise 8: Adding name to a list**"
      ],
      "metadata": {
        "id": "9gmWlpa-PyB8"
      }
    },
    {
      "cell_type": "code",
      "source": [
        "# Area variables (in square meters)\n",
        "hall = 11.25\n",
        "kit = 18.0\n",
        "liv = 20.0\n",
        "bed = 10.75\n",
        "bath = 9.50\n",
        "\n",
        "# Adapt list areas - add name for each room\n",
        "areas = [\"hallway\",hall, \"kitchen\", kit,\"living\", liv,\"bedroom\", bed, \\\n",
        "         \"bathroom\", bath]\n",
        "\n",
        "# Print areas\n",
        "print(areas)"
      ],
      "metadata": {
        "colab": {
          "base_uri": "https://localhost:8080/"
        },
        "id": "wAOGbKeMajQS",
        "outputId": "e18441ac-d2a5-4fbf-aed0-3f38418cfb5c"
      },
      "execution_count": 62,
      "outputs": [
        {
          "output_type": "stream",
          "name": "stdout",
          "text": [
            "['hallway', 11.25, 'kitchen', 18.0, 'living', 20.0, 'bedroom', 10.75, 'bathroom', 9.5]\n"
          ]
        }
      ]
    },
    {
      "cell_type": "markdown",
      "source": [
        "# **Select the valid list**"
      ],
      "metadata": {
        "id": "bCVSJ_VEQHTf"
      }
    },
    {
      "cell_type": "code",
      "source": [
        "# Example A\n",
        "[1, 3, 4, 2]"
      ],
      "metadata": {
        "colab": {
          "base_uri": "https://localhost:8080/"
        },
        "id": "nIvvKk3mQIxe",
        "outputId": "49d6e7a2-e272-45a6-b9cd-dea46a289036"
      },
      "execution_count": 63,
      "outputs": [
        {
          "output_type": "execute_result",
          "data": {
            "text/plain": [
              "[1, 3, 4, 2]"
            ]
          },
          "metadata": {},
          "execution_count": 63
        }
      ]
    },
    {
      "cell_type": "code",
      "source": [
        "# Example B\n",
        "[[1, 2, 3], [4, 5, 7]]"
      ],
      "metadata": {
        "colab": {
          "base_uri": "https://localhost:8080/"
        },
        "id": "NX3vdmrNQOBJ",
        "outputId": "5eb3a15f-9feb-4872-8dce-337d06305988"
      },
      "execution_count": 64,
      "outputs": [
        {
          "output_type": "execute_result",
          "data": {
            "text/plain": [
              "[[1, 2, 3], [4, 5, 7]]"
            ]
          },
          "metadata": {},
          "execution_count": 64
        }
      ]
    },
    {
      "cell_type": "code",
      "source": [
        "# Example C\n",
        "[1 + 2, \"a\" * 5, 3]"
      ],
      "metadata": {
        "colab": {
          "base_uri": "https://localhost:8080/"
        },
        "id": "uc7PUn8GQRzl",
        "outputId": "235a7e2b-56f5-46a1-b648-8ca13798b891"
      },
      "execution_count": 65,
      "outputs": [
        {
          "output_type": "execute_result",
          "data": {
            "text/plain": [
              "[3, 'aaaaa', 3]"
            ]
          },
          "metadata": {},
          "execution_count": 65
        }
      ]
    },
    {
      "cell_type": "markdown",
      "source": [
        "# **Exercise 9: List**"
      ],
      "metadata": {
        "id": "F7kv1wnCQcgu"
      }
    },
    {
      "cell_type": "code",
      "source": [
        "# Area variables (in square meters)\n",
        "hall = 11.25\n",
        "kit = 18.0\n",
        "liv = 20.0\n",
        "bed = 10.75\n",
        "bath = 9.50\n",
        "\n",
        "# house information as list of lists\n",
        "house = [[\"hallway\", hall],\n",
        "         [\"kitchen\", kit],\n",
        "         [\"living room\", liv],\n",
        "         [\"bedroom\", bed],\n",
        "         [\"bathroom\", bath]]\n",
        "\n",
        "# Print out house\n",
        "print(house)\n",
        "\n",
        "# Print out the type of house\n",
        "print(type(house))"
      ],
      "metadata": {
        "colab": {
          "base_uri": "https://localhost:8080/"
        },
        "id": "17D1grMuaoks",
        "outputId": "2bfb578e-84c9-4982-99de-68aa90b10b30"
      },
      "execution_count": 67,
      "outputs": [
        {
          "output_type": "stream",
          "name": "stdout",
          "text": [
            "[['hallway', 11.25], ['kitchen', 18.0], ['living room', 20.0], ['bedroom', 10.75], ['bathroom', 9.5]]\n",
            "<class 'list'>\n"
          ]
        }
      ]
    },
    {
      "cell_type": "markdown",
      "source": [
        "# **Subsetting the lists**"
      ],
      "metadata": {
        "id": "wqHjDjZdRJiw"
      }
    },
    {
      "cell_type": "code",
      "source": [
        "# Given the fam list from previous example\n",
        "fam"
      ],
      "metadata": {
        "colab": {
          "base_uri": "https://localhost:8080/"
        },
        "id": "00SU4uOhRLKD",
        "outputId": "3aaece01-73d2-4907-a887-ce0406fcc8e2"
      },
      "execution_count": null,
      "outputs": [
        {
          "output_type": "execute_result",
          "data": {
            "text/plain": [
              "['liz', 1.73, 'emma', 1.68, 'mom', 1.71, 'dad', 1.89]"
            ]
          },
          "metadata": {},
          "execution_count": 11
        }
      ]
    },
    {
      "cell_type": "code",
      "source": [
        "# Emma's height\n",
        "fam[3]"
      ],
      "metadata": {
        "colab": {
          "base_uri": "https://localhost:8080/"
        },
        "id": "D5PAlT0ARfyp",
        "outputId": "0c75a284-1fb3-4ef2-ed6e-5c17181b73d3"
      },
      "execution_count": 68,
      "outputs": [
        {
          "output_type": "execute_result",
          "data": {
            "text/plain": [
              "1.68"
            ]
          },
          "metadata": {},
          "execution_count": 68
        }
      ]
    },
    {
      "cell_type": "code",
      "source": [
        "# negative index\n",
        "fam[-2]"
      ],
      "metadata": {
        "colab": {
          "base_uri": "https://localhost:8080/",
          "height": 36
        },
        "id": "8lRAL7SFb0FE",
        "outputId": "b45fbb86-7d7b-4c06-ff5f-3050e74312be"
      },
      "execution_count": 69,
      "outputs": [
        {
          "output_type": "execute_result",
          "data": {
            "text/plain": [
              "'dad'"
            ],
            "application/vnd.google.colaboratory.intrinsic+json": {
              "type": "string"
            }
          },
          "metadata": {},
          "execution_count": 69
        }
      ]
    },
    {
      "cell_type": "code",
      "source": [
        "# Using negative index to get Emma's height\n",
        "fam[-5]"
      ],
      "metadata": {
        "colab": {
          "base_uri": "https://localhost:8080/"
        },
        "id": "eSSyWuWqRnLT",
        "outputId": "fd525d57-13cc-4b6f-c0a4-df1ee9e2ab48"
      },
      "execution_count": 70,
      "outputs": [
        {
          "output_type": "execute_result",
          "data": {
            "text/plain": [
              "1.68"
            ]
          },
          "metadata": {},
          "execution_count": 70
        }
      ]
    },
    {
      "cell_type": "markdown",
      "source": [
        "# **List slicing**"
      ],
      "metadata": {
        "id": "PUOsBCVRSBvN"
      }
    },
    {
      "cell_type": "code",
      "source": [
        "# Given the fam list again\n",
        "fam"
      ],
      "metadata": {
        "colab": {
          "base_uri": "https://localhost:8080/"
        },
        "id": "YxHPTc7pSDOP",
        "outputId": "182ac456-9235-46d7-cadd-1510240432a1"
      },
      "execution_count": null,
      "outputs": [
        {
          "output_type": "execute_result",
          "data": {
            "text/plain": [
              "['liz', 1.73, 'emma', 1.68, 'mom', 1.71, 'dad', 1.89]"
            ]
          },
          "metadata": {},
          "execution_count": 15
        }
      ]
    },
    {
      "cell_type": "code",
      "source": [
        "# What would fam[3:5] give us?\n",
        "# [3:5] 3 is inlucisve, 5 is exclusive (is actually 4) = [3:4]\n",
        "fam[3:5]"
      ],
      "metadata": {
        "colab": {
          "base_uri": "https://localhost:8080/"
        },
        "id": "tW98wZyHSHe6",
        "outputId": "8705727d-80df-457d-facf-9104e1ce2f1a"
      },
      "execution_count": 72,
      "outputs": [
        {
          "output_type": "execute_result",
          "data": {
            "text/plain": [
              "[1.68, 'mom']"
            ]
          },
          "metadata": {},
          "execution_count": 72
        }
      ]
    },
    {
      "cell_type": "code",
      "source": [
        "# What would fam[1:4] give us?\n",
        "fam[1:4]"
      ],
      "metadata": {
        "colab": {
          "base_uri": "https://localhost:8080/"
        },
        "id": "mWWOJQYuSXvy",
        "outputId": "0bec991d-a14e-4ac4-f3fa-7572ff3a3823"
      },
      "execution_count": 73,
      "outputs": [
        {
          "output_type": "execute_result",
          "data": {
            "text/plain": [
              "[1.73, 'emma', 1.68]"
            ]
          },
          "metadata": {},
          "execution_count": 73
        }
      ]
    },
    {
      "cell_type": "code",
      "source": [
        "# What would fam[:4] give us?\n",
        "fam[:4]"
      ],
      "metadata": {
        "colab": {
          "base_uri": "https://localhost:8080/"
        },
        "id": "zB-qOUZsShdY",
        "outputId": "01bb0518-44ee-4e59-f169-983c56bc7766"
      },
      "execution_count": 74,
      "outputs": [
        {
          "output_type": "execute_result",
          "data": {
            "text/plain": [
              "['Liz', 1.73, 'emma', 1.68]"
            ]
          },
          "metadata": {},
          "execution_count": 74
        }
      ]
    },
    {
      "cell_type": "code",
      "source": [
        "# What would fam[5: ] give us?\n",
        "fam[5:]"
      ],
      "metadata": {
        "colab": {
          "base_uri": "https://localhost:8080/"
        },
        "id": "2lkHOfuNSpst",
        "outputId": "9c0292a5-2406-4b6a-d322-0660c1f81392"
      },
      "execution_count": 75,
      "outputs": [
        {
          "output_type": "execute_result",
          "data": {
            "text/plain": [
              "[1.71, 'dad', 1.89]"
            ]
          },
          "metadata": {},
          "execution_count": 75
        }
      ]
    },
    {
      "cell_type": "markdown",
      "source": [
        "# **Exercise 10 : Indexing**"
      ],
      "metadata": {
        "id": "-MzRGvo6S_23"
      }
    },
    {
      "cell_type": "code",
      "source": [
        "# Given the areas list\n",
        "areas"
      ],
      "metadata": {
        "colab": {
          "base_uri": "https://localhost:8080/"
        },
        "id": "PKO6PpeaD0td",
        "outputId": "d31325f2-f27f-4e69-df09-897f0930ca39"
      },
      "execution_count": null,
      "outputs": [
        {
          "output_type": "execute_result",
          "data": {
            "text/plain": [
              "['hallway',\n",
              " 11.25,\n",
              " 'kitchen',\n",
              " 18.0,\n",
              " 'living room',\n",
              " 20.0,\n",
              " 'bedroom',\n",
              " 10.75,\n",
              " 'bathroom',\n",
              " 9.5]"
            ]
          },
          "metadata": {},
          "execution_count": 24
        }
      ]
    },
    {
      "cell_type": "code",
      "source": [
        "# Print out second element from areas\n",
        "areas[1]"
      ],
      "metadata": {
        "colab": {
          "base_uri": "https://localhost:8080/"
        },
        "id": "Ci3cBtoiTKdw",
        "outputId": "08b69721-04f7-4e69-ebc9-682e144f2a91"
      },
      "execution_count": 76,
      "outputs": [
        {
          "output_type": "execute_result",
          "data": {
            "text/plain": [
              "11.25"
            ]
          },
          "metadata": {},
          "execution_count": 76
        }
      ]
    },
    {
      "cell_type": "code",
      "source": [
        "# Print out last element from areas\n",
        "areas[-1]"
      ],
      "metadata": {
        "colab": {
          "base_uri": "https://localhost:8080/"
        },
        "id": "5RuEA8E2TNBW",
        "outputId": "714725d4-ca0f-47dc-8639-f1657688129f"
      },
      "execution_count": 77,
      "outputs": [
        {
          "output_type": "execute_result",
          "data": {
            "text/plain": [
              "9.5"
            ]
          },
          "metadata": {},
          "execution_count": 77
        }
      ]
    },
    {
      "cell_type": "code",
      "source": [
        "# Print out the area of the living room\n",
        "areas[5]"
      ],
      "metadata": {
        "colab": {
          "base_uri": "https://localhost:8080/"
        },
        "id": "Zhd0UmaITPVf",
        "outputId": "259119cb-ae55-4e56-8c50-8778bd8dd630"
      },
      "execution_count": 78,
      "outputs": [
        {
          "output_type": "execute_result",
          "data": {
            "text/plain": [
              "20.0"
            ]
          },
          "metadata": {},
          "execution_count": 78
        }
      ]
    },
    {
      "cell_type": "markdown",
      "source": [
        "# **Exercise 11: combination of list subsetting and variable assignment**"
      ],
      "metadata": {
        "id": "bmlbC4FyTl5L"
      }
    },
    {
      "cell_type": "code",
      "source": [
        "# Given the areas list\n",
        "areas"
      ],
      "metadata": {
        "colab": {
          "base_uri": "https://localhost:8080/"
        },
        "id": "4ulfoFQFYjpr",
        "outputId": "ac09e8c2-54d8-4bd8-bb60-049f854aea28"
      },
      "execution_count": 79,
      "outputs": [
        {
          "output_type": "execute_result",
          "data": {
            "text/plain": [
              "['hallway',\n",
              " 11.25,\n",
              " 'kitchen',\n",
              " 18.0,\n",
              " 'living',\n",
              " 20.0,\n",
              " 'bedroom',\n",
              " 10.75,\n",
              " 'bathroom',\n",
              " 9.5]"
            ]
          },
          "metadata": {},
          "execution_count": 79
        }
      ]
    },
    {
      "cell_type": "code",
      "source": [
        "# Sum of kitchen and bedroom area: eat_sleep_area\n",
        "eat_sleep_area = areas[3]+areas[-3]\n",
        "\n",
        "# Print the variable eat_sleep_area\n",
        "print(eat_sleep_area)"
      ],
      "metadata": {
        "colab": {
          "base_uri": "https://localhost:8080/"
        },
        "id": "rnhRu3EUVsnI",
        "outputId": "ab167b75-8fd7-49e2-9b1a-75fa4defbbf2"
      },
      "execution_count": 82,
      "outputs": [
        {
          "output_type": "stream",
          "name": "stdout",
          "text": [
            "28.75\n"
          ]
        }
      ]
    },
    {
      "cell_type": "markdown",
      "source": [
        "# **Exercise 12: Use slicing to create a list**"
      ],
      "metadata": {
        "id": "0oq4XonrWFDP"
      }
    },
    {
      "cell_type": "code",
      "source": [
        "# Given the areas list\n",
        "areas"
      ],
      "metadata": {
        "colab": {
          "base_uri": "https://localhost:8080/"
        },
        "id": "40JyGHlaZEO0",
        "outputId": "1a289e24-a314-4dd0-bef8-066023899051"
      },
      "execution_count": null,
      "outputs": [
        {
          "output_type": "execute_result",
          "data": {
            "text/plain": [
              "['hallway',\n",
              " 11.25,\n",
              " 'kitchen',\n",
              " 18.0,\n",
              " 'living room',\n",
              " 20.0,\n",
              " 'bedroom',\n",
              " 10.75,\n",
              " 'bathroom',\n",
              " 9.5]"
            ]
          },
          "metadata": {},
          "execution_count": 32
        }
      ]
    },
    {
      "cell_type": "code",
      "source": [
        "# Use slicing to create downstairs: first 6 elements of areas\n",
        "downstairs = areas[:6]\n",
        "downstairs"
      ],
      "metadata": {
        "colab": {
          "base_uri": "https://localhost:8080/"
        },
        "id": "pitZVCGpY486",
        "outputId": "15c68a29-35fc-4834-88d9-5701036e89fa"
      },
      "execution_count": 84,
      "outputs": [
        {
          "output_type": "execute_result",
          "data": {
            "text/plain": [
              "['hallway', 11.25, 'kitchen', 18.0, 'living', 20.0]"
            ]
          },
          "metadata": {},
          "execution_count": 84
        }
      ]
    },
    {
      "cell_type": "code",
      "source": [
        "# Use slicing to create upstairs: last 4 elements of areas\n",
        "upstairs = areas[-4:]\n",
        "upstairs"
      ],
      "metadata": {
        "colab": {
          "base_uri": "https://localhost:8080/"
        },
        "id": "sDMhiY-7Y9V8",
        "outputId": "ab0df0f0-3b0a-4334-dd37-320b2c733ab0"
      },
      "execution_count": 89,
      "outputs": [
        {
          "output_type": "execute_result",
          "data": {
            "text/plain": [
              "['bedroom', 10.75, 'bathroom', 9.5]"
            ]
          },
          "metadata": {},
          "execution_count": 89
        }
      ]
    },
    {
      "cell_type": "code",
      "source": [
        "# Print out downstairs and upstairs\n",
        "print(downstairs)\n",
        "print(upstairs)"
      ],
      "metadata": {
        "colab": {
          "base_uri": "https://localhost:8080/"
        },
        "id": "TxxVdoztZCub",
        "outputId": "da4726fc-2758-4375-d28f-0f3e7c48d6c8"
      },
      "execution_count": 90,
      "outputs": [
        {
          "output_type": "stream",
          "name": "stdout",
          "text": [
            "['hallway', 11.25, 'kitchen', 18.0, 'living', 20.0]\n",
            "['bedroom', 10.75, 'bathroom', 9.5]\n"
          ]
        }
      ]
    },
    {
      "cell_type": "markdown",
      "source": [
        "# **Exercise 13: Indexing again**"
      ],
      "metadata": {
        "id": "NrhbIq9-aMkV"
      }
    },
    {
      "cell_type": "code",
      "source": [
        "# Given the areas list\n",
        "areas"
      ],
      "metadata": {
        "colab": {
          "base_uri": "https://localhost:8080/"
        },
        "id": "4JYi15YmacA_",
        "outputId": "76acf465-9425-4753-cc64-d95615aaecb4"
      },
      "execution_count": null,
      "outputs": [
        {
          "output_type": "execute_result",
          "data": {
            "text/plain": [
              "['hallway',\n",
              " 11.25,\n",
              " 'kitchen',\n",
              " 18.0,\n",
              " 'living room',\n",
              " 20.0,\n",
              " 'bedroom',\n",
              " 10.75,\n",
              " 'bathroom',\n",
              " 9.5]"
            ]
          },
          "metadata": {},
          "execution_count": 42
        }
      ]
    },
    {
      "cell_type": "code",
      "source": [
        "# Alternative slicing to create downstairs: omitting the beginning index\n",
        "downstairs = areas[:6]\n",
        "downstairs"
      ],
      "metadata": {
        "id": "mE8M7PZmZGy7",
        "colab": {
          "base_uri": "https://localhost:8080/"
        },
        "outputId": "8f082595-a283-4f0e-98b7-702833d3e96c"
      },
      "execution_count": 92,
      "outputs": [
        {
          "output_type": "execute_result",
          "data": {
            "text/plain": [
              "['hallway', 11.25, 'kitchen', 18.0, 'living', 20.0]"
            ]
          },
          "metadata": {},
          "execution_count": 92
        }
      ]
    },
    {
      "cell_type": "code",
      "source": [
        "# Alternative slicing to create upstairs: omitting the end index\n",
        "upstairs = areas[6:]\n",
        "upstairs"
      ],
      "metadata": {
        "colab": {
          "base_uri": "https://localhost:8080/"
        },
        "id": "RSpLTFC7agFa",
        "outputId": "029bbc2f-46f0-4d7b-f15b-312b4dd1003e"
      },
      "execution_count": 94,
      "outputs": [
        {
          "output_type": "execute_result",
          "data": {
            "text/plain": [
              "['bedroom', 10.75, 'bathroom', 9.5]"
            ]
          },
          "metadata": {},
          "execution_count": 94
        }
      ]
    },
    {
      "cell_type": "code",
      "source": [
        "# Negative indexing for the last five elements\n",
        "areas[-5:]"
      ],
      "metadata": {
        "colab": {
          "base_uri": "https://localhost:8080/"
        },
        "id": "pgPPwDQ4bqhK",
        "outputId": "1f89d05d-e359-4b45-bccd-e301828d2121"
      },
      "execution_count": 95,
      "outputs": [
        {
          "output_type": "execute_result",
          "data": {
            "text/plain": [
              "[20.0, 'bedroom', 10.75, 'bathroom', 9.5]"
            ]
          },
          "metadata": {},
          "execution_count": 95
        }
      ]
    },
    {
      "cell_type": "markdown",
      "source": [
        "# **Subsetting lists of lists**"
      ],
      "metadata": {
        "id": "FhZSZSrJb7mE"
      }
    },
    {
      "cell_type": "code",
      "source": [
        "# Given the following list\n",
        "x = [[\"a\", \"b\", \"c\"],\n",
        "     [\"d\", \"e\",\"f\"],\n",
        "     [\"g\", \"h\", \"i\"]]"
      ],
      "metadata": {
        "id": "y0l1Y9rlb-Fu"
      },
      "execution_count": 97,
      "outputs": []
    },
    {
      "cell_type": "code",
      "source": [
        "# Example 1\n",
        "x[2][0]"
      ],
      "metadata": {
        "colab": {
          "base_uri": "https://localhost:8080/",
          "height": 36
        },
        "id": "p5Oq55xycNAr",
        "outputId": "ff9ffcfd-3ff1-4c21-a48c-50ac1a214d81"
      },
      "execution_count": 99,
      "outputs": [
        {
          "output_type": "execute_result",
          "data": {
            "text/plain": [
              "'g'"
            ],
            "application/vnd.google.colaboratory.intrinsic+json": {
              "type": "string"
            }
          },
          "metadata": {},
          "execution_count": 99
        }
      ]
    },
    {
      "cell_type": "code",
      "source": [
        "# Example 2\n",
        "x[2][:2]"
      ],
      "metadata": {
        "colab": {
          "base_uri": "https://localhost:8080/"
        },
        "id": "kYMQV-1JcXK9",
        "outputId": "63685ea9-91b8-41f3-bec0-152100e196c5"
      },
      "execution_count": 102,
      "outputs": [
        {
          "output_type": "execute_result",
          "data": {
            "text/plain": [
              "['g', 'h']"
            ]
          },
          "metadata": {},
          "execution_count": 102
        }
      ]
    },
    {
      "cell_type": "code",
      "source": [
        "# Given the house variable from previous example\n",
        "house"
      ],
      "metadata": {
        "colab": {
          "base_uri": "https://localhost:8080/"
        },
        "id": "iF_a9bwmcf9_",
        "outputId": "54ed48b4-64e6-4dbc-a488-ccdf13dcb18c"
      },
      "execution_count": null,
      "outputs": [
        {
          "output_type": "execute_result",
          "data": {
            "text/plain": [
              "[['hallway', 11.25],\n",
              " ['kitchen', 18.0],\n",
              " ['living room', 20.0],\n",
              " ['bedroom', 10.75],\n",
              " ['bathroom', 9.5]]"
            ]
          },
          "metadata": {},
          "execution_count": 61
        }
      ]
    },
    {
      "cell_type": "code",
      "source": [
        "# subsetting house[-1][1]\n",
        "house[-1][1]"
      ],
      "metadata": {
        "colab": {
          "base_uri": "https://localhost:8080/"
        },
        "id": "hGcWYLoYc3uB",
        "outputId": "fb01a1d9-d82d-48e4-ba23-c7fb79037c45"
      },
      "execution_count": 103,
      "outputs": [
        {
          "output_type": "execute_result",
          "data": {
            "text/plain": [
              "9.5"
            ]
          },
          "metadata": {},
          "execution_count": 103
        }
      ]
    },
    {
      "cell_type": "code",
      "source": [
        "# Data type\n",
        "type(house[-1][1])"
      ],
      "metadata": {
        "colab": {
          "base_uri": "https://localhost:8080/"
        },
        "id": "R974o6vHdGc_",
        "outputId": "8bcdfaa9-2eb9-4669-adef-f1f3beb78866"
      },
      "execution_count": 105,
      "outputs": [
        {
          "output_type": "execute_result",
          "data": {
            "text/plain": [
              "float"
            ]
          },
          "metadata": {},
          "execution_count": 105
        }
      ]
    },
    {
      "cell_type": "markdown",
      "source": [
        "# **Manipulating Lists**"
      ],
      "metadata": {
        "id": "woyfTIDeeEKc"
      }
    },
    {
      "cell_type": "code",
      "source": [
        "# Given the fam list\n",
        "fam"
      ],
      "metadata": {
        "colab": {
          "base_uri": "https://localhost:8080/"
        },
        "id": "puff7rDReL19",
        "outputId": "4c3738a6-be0d-4111-eafc-c9e0c61504da"
      },
      "execution_count": null,
      "outputs": [
        {
          "output_type": "execute_result",
          "data": {
            "text/plain": [
              "['liz', 1.73, 1.68, 'mom', 1.71, 'dad', 1.89]"
            ]
          },
          "metadata": {},
          "execution_count": 86
        }
      ]
    },
    {
      "cell_type": "code",
      "source": [
        "# Change of dad's height\n",
        "fam[-1] =1.86\n",
        "print(fam)"
      ],
      "metadata": {
        "colab": {
          "base_uri": "https://localhost:8080/"
        },
        "id": "ddDRS3KmePBl",
        "outputId": "a7297173-36a8-4ab9-b42f-411bca6069ea"
      },
      "execution_count": 108,
      "outputs": [
        {
          "output_type": "stream",
          "name": "stdout",
          "text": [
            "['Liz', 1.73, 'emma', 1.68, 'mom', 1.71, 'dad', 1.86]\n"
          ]
        }
      ]
    },
    {
      "cell_type": "code",
      "source": [
        "# Change of liz details\n",
        "fam[0:2]= \"lisa\", 1.74\n",
        "print(fam)"
      ],
      "metadata": {
        "colab": {
          "base_uri": "https://localhost:8080/"
        },
        "id": "hrS1_l1jebHC",
        "outputId": "6d1375b9-6302-4766-a841-eeca6172d5a0"
      },
      "execution_count": 109,
      "outputs": [
        {
          "output_type": "stream",
          "name": "stdout",
          "text": [
            "['lisa', 1.74, 'emma', 1.68, 'mom', 1.71, 'dad', 1.86]\n"
          ]
        }
      ]
    },
    {
      "cell_type": "markdown",
      "source": [
        "# **Adding and removing elements in lists**\n"
      ],
      "metadata": {
        "id": "35BDe7ggfzQX"
      }
    },
    {
      "cell_type": "code",
      "source": [
        "# Given the items list\n",
        "# We want to add additional ietms\n",
        "items = ['cake', 'cookie', 'bread']\n",
        "items + ['biscuit', 'tart']"
      ],
      "metadata": {
        "colab": {
          "base_uri": "https://localhost:8080/"
        },
        "id": "wvA-pKQJqQnA",
        "outputId": "e671624b-de0c-4ca3-f46e-df0f7a96e62a"
      },
      "execution_count": 110,
      "outputs": [
        {
          "output_type": "execute_result",
          "data": {
            "text/plain": [
              "['cake', 'cookie', 'bread', 'biscuit', 'tart']"
            ]
          },
          "metadata": {},
          "execution_count": 110
        }
      ]
    },
    {
      "cell_type": "code",
      "source": [
        "# However, the items are not updates\n",
        "print(items)"
      ],
      "metadata": {
        "colab": {
          "base_uri": "https://localhost:8080/"
        },
        "id": "PoPJ7agZq1On",
        "outputId": "c376086a-124e-4c64-bfdd-d15a7bb38d35"
      },
      "execution_count": 111,
      "outputs": [
        {
          "output_type": "stream",
          "name": "stdout",
          "text": [
            "['cake', 'cookie', 'bread']\n"
          ]
        }
      ]
    },
    {
      "cell_type": "code",
      "source": [
        "# Create a new list to store the newly added items\n",
        "total_items = items + ['biscuit', 'tart']\n",
        "print(total_items)"
      ],
      "metadata": {
        "colab": {
          "base_uri": "https://localhost:8080/"
        },
        "id": "bhdOp8arq64j",
        "outputId": "90318e94-74d8-46e1-ef68-b2c0d5d6dfe5"
      },
      "execution_count": 114,
      "outputs": [
        {
          "output_type": "stream",
          "name": "stdout",
          "text": [
            "['cake', 'cookie', 'bread', 'biscuit', 'tart']\n"
          ]
        }
      ]
    },
    {
      "cell_type": "code",
      "source": [
        "# Given the original fam list\n",
        "fam = [\"liz\", 1.73, \"emma\", 1.68, \"mom\", 1.71, \"dad\", 1.89]\n",
        "print(fam)"
      ],
      "metadata": {
        "colab": {
          "base_uri": "https://localhost:8080/"
        },
        "id": "UhYnfn-wqaGK",
        "outputId": "1edd7a93-1f8c-4cae-a4ff-f1959ddb7276"
      },
      "execution_count": 115,
      "outputs": [
        {
          "output_type": "stream",
          "name": "stdout",
          "text": [
            "['liz', 1.73, 'emma', 1.68, 'mom', 1.71, 'dad', 1.89]\n"
          ]
        }
      ]
    },
    {
      "cell_type": "code",
      "source": [
        "# A simple + sign would not add the data into the fam list permanently\n",
        "fam + ['me',1.79]\n",
        "print(fam)"
      ],
      "metadata": {
        "colab": {
          "base_uri": "https://localhost:8080/"
        },
        "id": "WmQ4Vld4fy5d",
        "outputId": "6ad80bee-740a-40c2-c991-f09e37491757"
      },
      "execution_count": 116,
      "outputs": [
        {
          "output_type": "stream",
          "name": "stdout",
          "text": [
            "['liz', 1.73, 'emma', 1.68, 'mom', 1.71, 'dad', 1.89]\n"
          ]
        }
      ]
    },
    {
      "cell_type": "code",
      "source": [
        "# This would add the data into the list by assignning a new variable\n",
        "fam_ext = fam + ['me',1.79]\n",
        "print(fam_ext)"
      ],
      "metadata": {
        "colab": {
          "base_uri": "https://localhost:8080/"
        },
        "id": "DHRjrA76ljLu",
        "outputId": "17ec0620-07a7-49db-e584-d2512e39cf43"
      },
      "execution_count": 118,
      "outputs": [
        {
          "output_type": "stream",
          "name": "stdout",
          "text": [
            "['liz', 1.73, 'emma', 1.68, 'mom', 1.71, 'dad', 1.89, 'me', 1.79]\n"
          ]
        }
      ]
    },
    {
      "cell_type": "code",
      "source": [
        "# Delete third element from fam list\n",
        "del(fam[2])"
      ],
      "metadata": {
        "id": "yTYg0yCYlwYP"
      },
      "execution_count": 121,
      "outputs": []
    },
    {
      "cell_type": "code",
      "source": [
        "# Latest fam list - emma being removed\n",
        "print(fam)"
      ],
      "metadata": {
        "colab": {
          "base_uri": "https://localhost:8080/"
        },
        "id": "KEbtXFmgl_4a",
        "outputId": "4c350664-f403-44c2-c38d-4982045b4d1e"
      },
      "execution_count": 122,
      "outputs": [
        {
          "output_type": "stream",
          "name": "stdout",
          "text": [
            "['liz', 1.73, 1.68, 'mom', 1.71, 'dad', 1.89, 'me', 1.79]\n"
          ]
        }
      ]
    },
    {
      "cell_type": "markdown",
      "source": [
        "#### We can use the **<font color='red'>plus-equals operator += </font>** to provide a convenient way to add a value **<font color='red'>to an existing variable</font>** and assign the new value **<font color='red'>back to the same variable</font>**."
      ],
      "metadata": {
        "id": "KFevqAiosdp6"
      }
    },
    {
      "cell_type": "code",
      "source": [
        "# Given the original fam list\n",
        "fam = [\"liz\", 1.73, \"emma\", 1.68, \"mom\", 1.71, \"dad\", 1.89]\n",
        "\n",
        "# Use of the plus-equals operator +=\n",
        "fam +=['me',1.79]\n",
        "print(fam)"
      ],
      "metadata": {
        "colab": {
          "base_uri": "https://localhost:8080/"
        },
        "id": "BatMvvnYtAe7",
        "outputId": "951744be-5322-413d-b424-d2c5e15f8889"
      },
      "execution_count": 123,
      "outputs": [
        {
          "output_type": "stream",
          "name": "stdout",
          "text": [
            "['liz', 1.73, 'emma', 1.68, 'mom', 1.71, 'dad', 1.89, 'me', 1.79]\n"
          ]
        }
      ]
    },
    {
      "cell_type": "markdown",
      "source": [
        "# **Exercise 14: Updating the list**"
      ],
      "metadata": {
        "id": "3NQJmlSBrdwT"
      }
    },
    {
      "cell_type": "code",
      "source": [
        "# Given the areas list\n",
        "areas"
      ],
      "metadata": {
        "id": "ER6nvrVxeTsT",
        "colab": {
          "base_uri": "https://localhost:8080/"
        },
        "outputId": "eb400c62-5483-462d-ce20-65b4717bec76"
      },
      "execution_count": null,
      "outputs": [
        {
          "output_type": "execute_result",
          "data": {
            "text/plain": [
              "['hallway',\n",
              " 11.25,\n",
              " 'kitchen',\n",
              " 18.0,\n",
              " 'living room',\n",
              " 20.0,\n",
              " 'bedroom',\n",
              " 10.75,\n",
              " 'bathroom',\n",
              " 9.5]"
            ]
          },
          "metadata": {},
          "execution_count": 105
        }
      ]
    },
    {
      "cell_type": "code",
      "source": [
        "# Update the bathroom area\n",
        "areas[-1] = 10.5\n",
        "print(areas)"
      ],
      "metadata": {
        "id": "tQSE25JYrp2w",
        "colab": {
          "base_uri": "https://localhost:8080/"
        },
        "outputId": "be056617-c4dd-42ea-e399-c41eba139b32"
      },
      "execution_count": 125,
      "outputs": [
        {
          "output_type": "stream",
          "name": "stdout",
          "text": [
            "['hallway', 11.25, 'kitchen', 18.0, 'living', 20.0, 'bedroom', 10.75, 'bathroom', 10.5]\n"
          ]
        }
      ]
    },
    {
      "cell_type": "code",
      "source": [
        "# Change \"living room\" to \"chill zone\"\n",
        "areas[4]=\"chill zone\"\n",
        "print(fam)"
      ],
      "metadata": {
        "id": "G0mHMMITrvuh",
        "colab": {
          "base_uri": "https://localhost:8080/"
        },
        "outputId": "c4591d11-88e3-4412-f6e0-606cfa623d3c"
      },
      "execution_count": 126,
      "outputs": [
        {
          "output_type": "stream",
          "name": "stdout",
          "text": [
            "['liz', 1.73, 'emma', 1.68, 'mom', 1.71, 'dad', 1.89, 'me', 1.79]\n"
          ]
        }
      ]
    },
    {
      "cell_type": "code",
      "source": [
        "# Check the latest areas list\n",
        "areas"
      ],
      "metadata": {
        "colab": {
          "base_uri": "https://localhost:8080/"
        },
        "id": "Yqwnb22-rynu",
        "outputId": "6a0f796d-7057-4f94-b4a3-57d0f365666c"
      },
      "execution_count": null,
      "outputs": [
        {
          "output_type": "execute_result",
          "data": {
            "text/plain": [
              "['hallway',\n",
              " 11.25,\n",
              " 'kitchen',\n",
              " 18.0,\n",
              " 'chill zone',\n",
              " 20.0,\n",
              " 'bedroom',\n",
              " 10.75,\n",
              " 'bathroom',\n",
              " 10.5]"
            ]
          },
          "metadata": {},
          "execution_count": 108
        }
      ]
    },
    {
      "cell_type": "markdown",
      "source": [
        "# **Exercise 15: Another example**"
      ],
      "metadata": {
        "id": "NUgYNzcptWGs"
      }
    },
    {
      "cell_type": "code",
      "source": [
        "# Given the original areas\n",
        "areas = [\"hallway\", 11.25, \"kitchen\", 18.0, \"chill zone\", 20.0,\n",
        "         \"bedroom\", 10.75, \"bathroom\", 10.50]\n",
        "print(areas)"
      ],
      "metadata": {
        "id": "G7yfsnJleaBN",
        "colab": {
          "base_uri": "https://localhost:8080/"
        },
        "outputId": "b1e7ae65-887e-48ec-fe0e-daeb9f94558d"
      },
      "execution_count": null,
      "outputs": [
        {
          "output_type": "stream",
          "name": "stdout",
          "text": [
            "['hallway', 11.25, 'kitchen', 18.0, 'chill zone', 20.0, 'bedroom', 10.75, 'bathroom', 10.5]\n"
          ]
        }
      ]
    },
    {
      "cell_type": "code",
      "source": [
        "# Add poolhouse data to areas, new list is areas_1\n",
        "areas_1 = areas + [\"poolhouse\", 24.5]\n",
        "print(areas_1)"
      ],
      "metadata": {
        "colab": {
          "base_uri": "https://localhost:8080/"
        },
        "id": "3z_vRdGjtf04",
        "outputId": "ca70b87b-a0b7-4a08-e26e-f60a2bea5f3c"
      },
      "execution_count": 128,
      "outputs": [
        {
          "output_type": "stream",
          "name": "stdout",
          "text": [
            "['hallway', 11.25, 'kitchen', 18.0, 'chill zone', 20.0, 'bedroom', 10.75, 'bathroom', 10.5, 'poolhouse', 24.5]\n"
          ]
        }
      ]
    },
    {
      "cell_type": "code",
      "source": [
        "# Add garage data to areas_1, new list is areas_2\n",
        "areas_2 = areas_1 + [\"garage\", 15.45]\n",
        "print(areas_2)"
      ],
      "metadata": {
        "colab": {
          "base_uri": "https://localhost:8080/"
        },
        "id": "M7LSo89Xtm1l",
        "outputId": "f443445a-f66f-402d-a353-45d516341e26"
      },
      "execution_count": 130,
      "outputs": [
        {
          "output_type": "stream",
          "name": "stdout",
          "text": [
            "['hallway', 11.25, 'kitchen', 18.0, 'chill zone', 20.0, 'bedroom', 10.75, 'bathroom', 10.5, 'poolhouse', 24.5, 'garage', 15.45]\n"
          ]
        }
      ]
    },
    {
      "cell_type": "markdown",
      "source": [
        "# **Quiz**"
      ],
      "metadata": {
        "id": "l_Pfi_vDt6_L"
      }
    },
    {
      "cell_type": "code",
      "source": [
        "# Given the areas\n",
        "areas = areas_2[:]\n",
        "print(areas)\n",
        "\n",
        "# Output 1\n",
        "del(areas[10]);del(areas[11])\n",
        "print(areas)"
      ],
      "metadata": {
        "colab": {
          "base_uri": "https://localhost:8080/"
        },
        "id": "9VKw7VgEuR3P",
        "outputId": "80e4280c-dfee-4c56-801a-e2b29700e7b8"
      },
      "execution_count": 135,
      "outputs": [
        {
          "output_type": "stream",
          "name": "stdout",
          "text": [
            "['hallway', 11.25, 'kitchen', 18.0, 'chill zone', 20.0, 'bedroom', 10.75, 'bathroom', 10.5, 'poolhouse', 24.5, 'garage', 15.45]\n",
            "['hallway', 11.25, 'kitchen', 18.0, 'chill zone', 20.0, 'bedroom', 10.75, 'bathroom', 10.5, 24.5, 15.45]\n"
          ]
        }
      ]
    },
    {
      "cell_type": "code",
      "source": [
        "# Given the areas\n",
        "areas = areas_2[:]\n",
        "print(areas)\n",
        "\n",
        "# Output 2\n",
        "del(areas[10:11])\n",
        "print(areas)"
      ],
      "metadata": {
        "colab": {
          "base_uri": "https://localhost:8080/"
        },
        "id": "Jo3gxl0EuxJ3",
        "outputId": "817c2ed0-e28c-46f8-9e18-1cca7e230597"
      },
      "execution_count": 136,
      "outputs": [
        {
          "output_type": "stream",
          "name": "stdout",
          "text": [
            "['hallway', 11.25, 'kitchen', 18.0, 'chill zone', 20.0, 'bedroom', 10.75, 'bathroom', 10.5, 'poolhouse', 24.5, 'garage', 15.45]\n",
            "['hallway', 11.25, 'kitchen', 18.0, 'chill zone', 20.0, 'bedroom', 10.75, 'bathroom', 10.5, 24.5, 'garage', 15.45]\n"
          ]
        }
      ]
    },
    {
      "cell_type": "code",
      "source": [
        "# Given the areas\n",
        "areas = areas_2[:]\n",
        "print(areas)\n",
        "\n",
        "# Output 3\n",
        "del(areas[-4:-2])\n",
        "print(areas)"
      ],
      "metadata": {
        "colab": {
          "base_uri": "https://localhost:8080/"
        },
        "id": "xMmzSRkvu6p7",
        "outputId": "370e8b75-25bb-4240-ccdf-fc8d2e6bf153"
      },
      "execution_count": 137,
      "outputs": [
        {
          "output_type": "stream",
          "name": "stdout",
          "text": [
            "['hallway', 11.25, 'kitchen', 18.0, 'chill zone', 20.0, 'bedroom', 10.75, 'bathroom', 10.5, 'poolhouse', 24.5, 'garage', 15.45]\n",
            "['hallway', 11.25, 'kitchen', 18.0, 'chill zone', 20.0, 'bedroom', 10.75, 'bathroom', 10.5, 'garage', 15.45]\n"
          ]
        }
      ]
    },
    {
      "cell_type": "code",
      "source": [
        "# Given the areas\n",
        "areas = areas_2[:]\n",
        "print(areas)\n",
        "\n",
        "# Output 4\n",
        "del(areas[-3]); del(areas[-4])\n",
        "print(areas)"
      ],
      "metadata": {
        "colab": {
          "base_uri": "https://localhost:8080/"
        },
        "id": "B-NyfqE8vHfW",
        "outputId": "84ef0fdc-ea82-4412-c9b9-782fcee12f20"
      },
      "execution_count": 138,
      "outputs": [
        {
          "output_type": "stream",
          "name": "stdout",
          "text": [
            "['hallway', 11.25, 'kitchen', 18.0, 'chill zone', 20.0, 'bedroom', 10.75, 'bathroom', 10.5, 'poolhouse', 24.5, 'garage', 15.45]\n",
            "['hallway', 11.25, 'kitchen', 18.0, 'chill zone', 20.0, 'bedroom', 10.75, 'bathroom', 'poolhouse', 'garage', 15.45]\n"
          ]
        }
      ]
    },
    {
      "cell_type": "markdown",
      "source": [
        "# **Your challenge**"
      ],
      "metadata": {
        "id": "cYTxPlUCvnLw"
      }
    },
    {
      "cell_type": "code",
      "source": [
        "# Create list areas\n",
        "areas = [11.25, 18.0, 20.0, 10.75, 9.50]"
      ],
      "metadata": {
        "id": "STmXeJWAvx_Y"
      },
      "execution_count": 145,
      "outputs": []
    },
    {
      "cell_type": "code",
      "source": [
        "# Create a copy by simply using equal sign\n",
        "areas_copy = areas\n",
        "\n",
        "# change the second element of areas_copy to 21.1\n",
        "areas_copy[1] = 21.1\n",
        "\n",
        "# print the areas_and areas_copy\n",
        "print(areas, areas_copy)"
      ],
      "metadata": {
        "colab": {
          "base_uri": "https://localhost:8080/"
        },
        "id": "27WqpKobv4Wx",
        "outputId": "dc47d771-4877-4d93-be75-08ccd09af5d8"
      },
      "execution_count": 144,
      "outputs": [
        {
          "output_type": "stream",
          "name": "stdout",
          "text": [
            "[11.25, 21.1, 20.0, 10.75, 9.5] [11.25, 21.1, 20.0, 10.75, 9.5]\n"
          ]
        }
      ]
    },
    {
      "cell_type": "code",
      "source": [
        "# To preserve the original areas data and make changes to areas_copy only\n",
        "areas_copy = areas[:]\n",
        "\n",
        "\n",
        "# Now make the changes to second element in areas_copy to 40\n",
        "areas_copy[1] = 40\n",
        "\n",
        "# Print both areas and areas_copy\n",
        "print(areas_copy)"
      ],
      "metadata": {
        "colab": {
          "base_uri": "https://localhost:8080/"
        },
        "id": "OlRue_LiwgDV",
        "outputId": "c098f245-c8eb-4619-8494-feec20a6b867"
      },
      "execution_count": 146,
      "outputs": [
        {
          "output_type": "stream",
          "name": "stdout",
          "text": [
            "[11.25, 40, 20.0, 10.75, 9.5]\n"
          ]
        }
      ]
    },
    {
      "cell_type": "markdown",
      "source": [
        "# **Good Luck and see you all next week!</p>**"
      ],
      "metadata": {
        "id": "4mH-DiGcxDNp"
      }
    },
    {
      "cell_type": "code",
      "source": [
        "3+8"
      ],
      "metadata": {
        "colab": {
          "base_uri": "https://localhost:8080/"
        },
        "id": "191yJuh-FYFq",
        "outputId": "c3727bcf-6607-4fb8-d599-654f275c75b2"
      },
      "execution_count": null,
      "outputs": [
        {
          "output_type": "execute_result",
          "data": {
            "text/plain": [
              "11"
            ]
          },
          "metadata": {},
          "execution_count": 2
        }
      ]
    },
    {
      "cell_type": "code",
      "source": [
        "6+9"
      ],
      "metadata": {
        "colab": {
          "base_uri": "https://localhost:8080/"
        },
        "id": "xqGkA2nUFZ-H",
        "outputId": "cec964f5-7dd8-40d9-cc49-d4dc536fd55a"
      },
      "execution_count": null,
      "outputs": [
        {
          "output_type": "execute_result",
          "data": {
            "text/plain": [
              "15"
            ]
          },
          "metadata": {},
          "execution_count": 3
        }
      ]
    }
  ]
}